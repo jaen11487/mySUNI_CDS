{
 "cells": [
  {
   "cell_type": "markdown",
   "metadata": {},
   "source": [
    "## Boston housing - DNN regression example"
   ]
  },
  {
   "cell_type": "code",
   "execution_count": 1,
   "metadata": {},
   "outputs": [
    {
     "name": "stderr",
     "output_type": "stream",
     "text": [
      "Using TensorFlow backend.\n"
     ]
    },
    {
     "data": {
      "text/plain": [
       "'2.2.4'"
      ]
     },
     "execution_count": 1,
     "metadata": {},
     "output_type": "execute_result"
    }
   ],
   "source": [
    "import keras\n",
    "keras.__version__"
   ]
  },
  {
   "cell_type": "code",
   "execution_count": 2,
   "metadata": {},
   "outputs": [],
   "source": [
    "import tensorflow as tf"
   ]
  },
  {
   "cell_type": "code",
   "execution_count": 3,
   "metadata": {},
   "outputs": [],
   "source": [
    "from tensorflow.keras.datasets import boston_housing\n",
    "\n",
    "(train_data, train_targets), (test_data, test_targets) = boston_housing.load_data()"
   ]
  },
  {
   "cell_type": "code",
   "execution_count": 4,
   "metadata": {},
   "outputs": [
    {
     "data": {
      "text/plain": [
       "(404, 13)"
      ]
     },
     "execution_count": 4,
     "metadata": {},
     "output_type": "execute_result"
    }
   ],
   "source": [
    "train_data.shape"
   ]
  },
  {
   "cell_type": "code",
   "execution_count": 5,
   "metadata": {},
   "outputs": [
    {
     "data": {
      "text/plain": [
       "(102, 13)"
      ]
     },
     "execution_count": 5,
     "metadata": {},
     "output_type": "execute_result"
    }
   ],
   "source": [
    "test_data.shape"
   ]
  },
  {
   "cell_type": "code",
   "execution_count": 6,
   "metadata": {
    "scrolled": true
   },
   "outputs": [
    {
     "data": {
      "text/plain": [
       "array([15.2, 42.3, 50. , 21.1, 17.7, 18.5, 11.3, 15.6, 15.6, 14.4, 12.1,\n",
       "       17.9, 23.1, 19.9, 15.7,  8.8, 50. , 22.5, 24.1, 27.5, 10.9, 30.8,\n",
       "       32.9, 24. , 18.5, 13.3, 22.9, 34.7, 16.6, 17.5, 22.3, 16.1, 14.9,\n",
       "       23.1, 34.9, 25. , 13.9, 13.1, 20.4, 20. , 15.2, 24.7, 22.2, 16.7,\n",
       "       12.7, 15.6, 18.4, 21. , 30.1, 15.1, 18.7,  9.6, 31.5, 24.8, 19.1,\n",
       "       22. , 14.5, 11. , 32. , 29.4, 20.3, 24.4, 14.6, 19.5, 14.1, 14.3,\n",
       "       15.6, 10.5,  6.3, 19.3, 19.3, 13.4, 36.4, 17.8, 13.5, 16.5,  8.3,\n",
       "       14.3, 16. , 13.4, 28.6, 43.5, 20.2, 22. , 23. , 20.7, 12.5, 48.5,\n",
       "       14.6, 13.4, 23.7, 50. , 21.7, 39.8, 38.7, 22.2, 34.9, 22.5, 31.1,\n",
       "       28.7, 46. , 41.7, 21. , 26.6, 15. , 24.4, 13.3, 21.2, 11.7, 21.7,\n",
       "       19.4, 50. , 22.8, 19.7, 24.7, 36.2, 14.2, 18.9, 18.3, 20.6, 24.6,\n",
       "       18.2,  8.7, 44. , 10.4, 13.2, 21.2, 37. , 30.7, 22.9, 20. , 19.3,\n",
       "       31.7, 32. , 23.1, 18.8, 10.9, 50. , 19.6,  5. , 14.4, 19.8, 13.8,\n",
       "       19.6, 23.9, 24.5, 25. , 19.9, 17.2, 24.6, 13.5, 26.6, 21.4, 11.9,\n",
       "       22.6, 19.6,  8.5, 23.7, 23.1, 22.4, 20.5, 23.6, 18.4, 35.2, 23.1,\n",
       "       27.9, 20.6, 23.7, 28. , 13.6, 27.1, 23.6, 20.6, 18.2, 21.7, 17.1,\n",
       "        8.4, 25.3, 13.8, 22.2, 18.4, 20.7, 31.6, 30.5, 20.3,  8.8, 19.2,\n",
       "       19.4, 23.1, 23. , 14.8, 48.8, 22.6, 33.4, 21.1, 13.6, 32.2, 13.1,\n",
       "       23.4, 18.9, 23.9, 11.8, 23.3, 22.8, 19.6, 16.7, 13.4, 22.2, 20.4,\n",
       "       21.8, 26.4, 14.9, 24.1, 23.8, 12.3, 29.1, 21. , 19.5, 23.3, 23.8,\n",
       "       17.8, 11.5, 21.7, 19.9, 25. , 33.4, 28.5, 21.4, 24.3, 27.5, 33.1,\n",
       "       16.2, 23.3, 48.3, 22.9, 22.8, 13.1, 12.7, 22.6, 15. , 15.3, 10.5,\n",
       "       24. , 18.5, 21.7, 19.5, 33.2, 23.2,  5. , 19.1, 12.7, 22.3, 10.2,\n",
       "       13.9, 16.3, 17. , 20.1, 29.9, 17.2, 37.3, 45.4, 17.8, 23.2, 29. ,\n",
       "       22. , 18. , 17.4, 34.6, 20.1, 25. , 15.6, 24.8, 28.2, 21.2, 21.4,\n",
       "       23.8, 31. , 26.2, 17.4, 37.9, 17.5, 20. ,  8.3, 23.9,  8.4, 13.8,\n",
       "        7.2, 11.7, 17.1, 21.6, 50. , 16.1, 20.4, 20.6, 21.4, 20.6, 36.5,\n",
       "        8.5, 24.8, 10.8, 21.9, 17.3, 18.9, 36.2, 14.9, 18.2, 33.3, 21.8,\n",
       "       19.7, 31.6, 24.8, 19.4, 22.8,  7.5, 44.8, 16.8, 18.7, 50. , 50. ,\n",
       "       19.5, 20.1, 50. , 17.2, 20.8, 19.3, 41.3, 20.4, 20.5, 13.8, 16.5,\n",
       "       23.9, 20.6, 31.5, 23.3, 16.8, 14. , 33.8, 36.1, 12.8, 18.3, 18.7,\n",
       "       19.1, 29. , 30.1, 50. , 50. , 22. , 11.9, 37.6, 50. , 22.7, 20.8,\n",
       "       23.5, 27.9, 50. , 19.3, 23.9, 22.6, 15.2, 21.7, 19.2, 43.8, 20.3,\n",
       "       33.2, 19.9, 22.5, 32.7, 22. , 17.1, 19. , 15. , 16.1, 25.1, 23.7,\n",
       "       28.7, 37.2, 22.6, 16.4, 25. , 29.8, 22.1, 17.4, 18.1, 30.3, 17.5,\n",
       "       24.7, 12.6, 26.5, 28.7, 13.3, 10.4, 24.4, 23. , 20. , 17.8,  7. ,\n",
       "       11.8, 24.4, 13.8, 19.4, 25.2, 19.4, 19.4, 29.1])"
      ]
     },
     "execution_count": 6,
     "metadata": {},
     "output_type": "execute_result"
    }
   ],
   "source": [
    "train_targets"
   ]
  },
  {
   "cell_type": "markdown",
   "metadata": {},
   "source": [
    "# Data preparation"
   ]
  },
  {
   "cell_type": "code",
   "execution_count": 7,
   "metadata": {},
   "outputs": [],
   "source": [
    "# 직접 구현하는 방법 \n",
    "# mean = train_data.mean(axis=0)\n",
    "# train_data -= mean\n",
    "# std = train_data.std(axis=0)\n",
    "# train_data /= std \n",
    "\n",
    "# test_data -=mean \n",
    "# test_data /=std"
   ]
  },
  {
   "cell_type": "code",
   "execution_count": 8,
   "metadata": {},
   "outputs": [],
   "source": [
    "from sklearn.preprocessing import MinMaxScaler \n",
    "\n",
    "m = MinMaxScaler()\n",
    "train_data = m.fit_transform(train_data)\n",
    "test_data = m.transform(test_data)"
   ]
  },
  {
   "cell_type": "markdown",
   "metadata": {},
   "source": [
    "# Modeling"
   ]
  },
  {
   "cell_type": "code",
   "execution_count": 10,
   "metadata": {},
   "outputs": [],
   "source": [
    "from tensorflow.keras import models, layers\n",
    "\n",
    "model = models.Sequential()\n",
    "model.add(layers.Dense(64, activation='relu'\n",
    "               , input_shape=(train_data.shape[1],)))\n",
    "model.add(layers.Dense(64, activation='relu'))\n",
    "model.add(layers.Dense(1))\n",
    "model.compile(optimizer='rmsprop', loss='mse',metrics=['mae'])"
   ]
  },
  {
   "cell_type": "code",
   "execution_count": 11,
   "metadata": {},
   "outputs": [
    {
     "name": "stdout",
     "output_type": "stream",
     "text": [
      "Train on 323 samples, validate on 81 samples\n",
      "Epoch 1/100\n",
      "323/323 [==============================] - 6s 18ms/step - loss: 187.0059 - mean_absolute_error: 9.8293 - val_loss: 76.7317 - val_mean_absolute_error: 6.3074\n",
      "Epoch 2/100\n",
      "323/323 [==============================] - 2s 7ms/step - loss: 60.0245 - mean_absolute_error: 5.3546 - val_loss: 54.6903 - val_mean_absolute_error: 5.0350\n",
      "Epoch 3/100\n",
      "323/323 [==============================] - 2s 6ms/step - loss: 47.5295 - mean_absolute_error: 4.6577 - val_loss: 51.9422 - val_mean_absolute_error: 4.6073\n",
      "Epoch 4/100\n",
      "323/323 [==============================] - 2s 6ms/step - loss: 39.2771 - mean_absolute_error: 4.1784 - val_loss: 42.8473 - val_mean_absolute_error: 4.1949\n",
      "Epoch 5/100\n",
      "323/323 [==============================] - 2s 6ms/step - loss: 33.1674 - mean_absolute_error: 3.8569 - val_loss: 30.5376 - val_mean_absolute_error: 3.9435\n",
      "Epoch 6/100\n",
      "323/323 [==============================] - 2s 6ms/step - loss: 28.5111 - mean_absolute_error: 3.6253 - val_loss: 29.4472 - val_mean_absolute_error: 4.2535\n",
      "Epoch 7/100\n",
      "323/323 [==============================] - 2s 6ms/step - loss: 26.5703 - mean_absolute_error: 3.4686 - val_loss: 24.6678 - val_mean_absolute_error: 3.2905\n",
      "Epoch 8/100\n",
      "323/323 [==============================] - 2s 6ms/step - loss: 23.7550 - mean_absolute_error: 3.3564 - val_loss: 27.2897 - val_mean_absolute_error: 3.5607\n",
      "Epoch 9/100\n",
      "323/323 [==============================] - 2s 6ms/step - loss: 24.0949 - mean_absolute_error: 3.2516 - val_loss: 25.6999 - val_mean_absolute_error: 3.3699\n",
      "Epoch 10/100\n",
      "323/323 [==============================] - 2s 6ms/step - loss: 22.5398 - mean_absolute_error: 3.1834 - val_loss: 24.6070 - val_mean_absolute_error: 3.2838\n",
      "Epoch 11/100\n",
      "323/323 [==============================] - 2s 6ms/step - loss: 22.4869 - mean_absolute_error: 3.1821 - val_loss: 23.5732 - val_mean_absolute_error: 3.2240\n",
      "Epoch 12/100\n",
      "323/323 [==============================] - 2s 6ms/step - loss: 21.4090 - mean_absolute_error: 3.1456 - val_loss: 24.3274 - val_mean_absolute_error: 3.3172\n",
      "Epoch 13/100\n",
      "323/323 [==============================] - 2s 6ms/step - loss: 21.8039 - mean_absolute_error: 3.0509 - val_loss: 25.6663 - val_mean_absolute_error: 3.3742\n",
      "Epoch 14/100\n",
      "323/323 [==============================] - 2s 6ms/step - loss: 20.9264 - mean_absolute_error: 2.9290 - val_loss: 18.5885 - val_mean_absolute_error: 2.8800\n",
      "Epoch 15/100\n",
      "323/323 [==============================] - 2s 7ms/step - loss: 20.1910 - mean_absolute_error: 2.9447 - val_loss: 19.5571 - val_mean_absolute_error: 3.2693\n",
      "Epoch 16/100\n",
      "323/323 [==============================] - 2s 6ms/step - loss: 19.8149 - mean_absolute_error: 2.9231 - val_loss: 19.7681 - val_mean_absolute_error: 2.8734\n",
      "Epoch 17/100\n",
      "323/323 [==============================] - 2s 6ms/step - loss: 19.5667 - mean_absolute_error: 2.8901 - val_loss: 20.2056 - val_mean_absolute_error: 3.5161\n",
      "Epoch 18/100\n",
      "323/323 [==============================] - 2s 6ms/step - loss: 19.9204 - mean_absolute_error: 2.8311 - val_loss: 20.5337 - val_mean_absolute_error: 2.9179\n",
      "Epoch 19/100\n",
      "323/323 [==============================] - 2s 6ms/step - loss: 18.7258 - mean_absolute_error: 2.7823 - val_loss: 18.6177 - val_mean_absolute_error: 2.8004\n",
      "Epoch 20/100\n",
      "323/323 [==============================] - 2s 6ms/step - loss: 18.1882 - mean_absolute_error: 2.7280 - val_loss: 19.5900 - val_mean_absolute_error: 2.8403\n",
      "Epoch 21/100\n",
      "323/323 [==============================] - 2s 6ms/step - loss: 17.8887 - mean_absolute_error: 2.8213 - val_loss: 18.4746 - val_mean_absolute_error: 2.7555\n",
      "Epoch 22/100\n",
      "323/323 [==============================] - 2s 6ms/step - loss: 17.5928 - mean_absolute_error: 2.7548 - val_loss: 16.4264 - val_mean_absolute_error: 2.7091\n",
      "Epoch 23/100\n",
      "323/323 [==============================] - 2s 6ms/step - loss: 17.9853 - mean_absolute_error: 2.6845 - val_loss: 16.5393 - val_mean_absolute_error: 2.6211\n",
      "Epoch 24/100\n",
      "323/323 [==============================] - 2s 6ms/step - loss: 17.2504 - mean_absolute_error: 2.7216 - val_loss: 17.8728 - val_mean_absolute_error: 2.7435\n",
      "Epoch 25/100\n",
      "323/323 [==============================] - 2s 6ms/step - loss: 16.7365 - mean_absolute_error: 2.5753 - val_loss: 14.8037 - val_mean_absolute_error: 2.7337\n",
      "Epoch 26/100\n",
      "323/323 [==============================] - 2s 6ms/step - loss: 16.3753 - mean_absolute_error: 2.5749 - val_loss: 14.1322 - val_mean_absolute_error: 2.6728\n",
      "Epoch 27/100\n",
      "323/323 [==============================] - 2s 6ms/step - loss: 16.0667 - mean_absolute_error: 2.6467 - val_loss: 14.6018 - val_mean_absolute_error: 2.6180\n",
      "Epoch 28/100\n",
      "323/323 [==============================] - 2s 7ms/step - loss: 16.1285 - mean_absolute_error: 2.6226 - val_loss: 14.6994 - val_mean_absolute_error: 2.6036\n",
      "Epoch 29/100\n",
      "323/323 [==============================] - 2s 6ms/step - loss: 15.3531 - mean_absolute_error: 2.5548 - val_loss: 14.6675 - val_mean_absolute_error: 2.8279\n",
      "Epoch 30/100\n",
      "323/323 [==============================] - 2s 7ms/step - loss: 14.9223 - mean_absolute_error: 2.5433 - val_loss: 13.3801 - val_mean_absolute_error: 2.5101\n",
      "Epoch 31/100\n",
      "323/323 [==============================] - 2s 6ms/step - loss: 14.7487 - mean_absolute_error: 2.5010 - val_loss: 18.7603 - val_mean_absolute_error: 2.9147\n",
      "Epoch 32/100\n",
      "323/323 [==============================] - 2s 6ms/step - loss: 14.2018 - mean_absolute_error: 2.4665 - val_loss: 15.3232 - val_mean_absolute_error: 3.0951\n",
      "Epoch 33/100\n",
      "323/323 [==============================] - 2s 5ms/step - loss: 13.7095 - mean_absolute_error: 2.4319 - val_loss: 12.8793 - val_mean_absolute_error: 2.5552\n",
      "Epoch 34/100\n",
      "323/323 [==============================] - 2s 5ms/step - loss: 13.8453 - mean_absolute_error: 2.3960 - val_loss: 12.4517 - val_mean_absolute_error: 2.4908\n",
      "Epoch 35/100\n",
      "323/323 [==============================] - 2s 7ms/step - loss: 13.5560 - mean_absolute_error: 2.3707 - val_loss: 14.1837 - val_mean_absolute_error: 3.0221\n",
      "Epoch 36/100\n",
      "323/323 [==============================] - 2s 7ms/step - loss: 12.5128 - mean_absolute_error: 2.3645 - val_loss: 12.5131 - val_mean_absolute_error: 2.6624\n",
      "Epoch 37/100\n",
      "323/323 [==============================] - 2s 6ms/step - loss: 13.2161 - mean_absolute_error: 2.3784 - val_loss: 13.0226 - val_mean_absolute_error: 2.5288\n",
      "Epoch 38/100\n",
      "323/323 [==============================] - 2s 6ms/step - loss: 12.7765 - mean_absolute_error: 2.3690 - val_loss: 12.9555 - val_mean_absolute_error: 2.7927\n",
      "Epoch 39/100\n",
      "323/323 [==============================] - 2s 5ms/step - loss: 11.4592 - mean_absolute_error: 2.2544 - val_loss: 14.2976 - val_mean_absolute_error: 2.9669\n",
      "Epoch 40/100\n",
      "323/323 [==============================] - 2s 6ms/step - loss: 12.2067 - mean_absolute_error: 2.3157 - val_loss: 11.8819 - val_mean_absolute_error: 2.5048\n",
      "Epoch 41/100\n",
      "323/323 [==============================] - 2s 5ms/step - loss: 11.7455 - mean_absolute_error: 2.2459 - val_loss: 14.7111 - val_mean_absolute_error: 2.7224\n",
      "Epoch 42/100\n",
      "323/323 [==============================] - 2s 6ms/step - loss: 11.5759 - mean_absolute_error: 2.2732 - val_loss: 11.8288 - val_mean_absolute_error: 2.5879\n",
      "Epoch 43/100\n",
      "323/323 [==============================] - 2s 6ms/step - loss: 11.4768 - mean_absolute_error: 2.2694 - val_loss: 11.3332 - val_mean_absolute_error: 2.4989\n",
      "Epoch 44/100\n",
      "323/323 [==============================] - 2s 6ms/step - loss: 10.9194 - mean_absolute_error: 2.2509 - val_loss: 10.8576 - val_mean_absolute_error: 2.4423\n",
      "Epoch 45/100\n",
      "323/323 [==============================] - 2s 6ms/step - loss: 11.0496 - mean_absolute_error: 2.2335 - val_loss: 11.6601 - val_mean_absolute_error: 2.4959\n",
      "Epoch 46/100\n",
      "323/323 [==============================] - 2s 7ms/step - loss: 10.4670 - mean_absolute_error: 2.1915 - val_loss: 13.0523 - val_mean_absolute_error: 2.6346\n",
      "Epoch 47/100\n",
      "323/323 [==============================] - 2s 6ms/step - loss: 10.0715 - mean_absolute_error: 2.2183 - val_loss: 12.4191 - val_mean_absolute_error: 2.5133\n",
      "Epoch 48/100\n",
      "323/323 [==============================] - 2s 6ms/step - loss: 10.8187 - mean_absolute_error: 2.1419 - val_loss: 10.7298 - val_mean_absolute_error: 2.5496\n",
      "Epoch 49/100\n"
     ]
    },
    {
     "name": "stdout",
     "output_type": "stream",
     "text": [
      "323/323 [==============================] - 2s 5ms/step - loss: 10.1469 - mean_absolute_error: 2.1549 - val_loss: 10.7073 - val_mean_absolute_error: 2.3348\n",
      "Epoch 50/100\n",
      "323/323 [==============================] - 2s 5ms/step - loss: 10.5170 - mean_absolute_error: 2.1450 - val_loss: 10.9639 - val_mean_absolute_error: 2.4299\n",
      "Epoch 51/100\n",
      "323/323 [==============================] - 2s 5ms/step - loss: 10.0020 - mean_absolute_error: 2.1482 - val_loss: 12.4972 - val_mean_absolute_error: 2.5530\n",
      "Epoch 52/100\n",
      "323/323 [==============================] - 2s 6ms/step - loss: 9.9992 - mean_absolute_error: 2.1072 - val_loss: 12.0560 - val_mean_absolute_error: 2.6061\n",
      "Epoch 53/100\n",
      "323/323 [==============================] - 2s 5ms/step - loss: 9.5450 - mean_absolute_error: 2.1021 - val_loss: 11.3715 - val_mean_absolute_error: 2.4803\n",
      "Epoch 54/100\n",
      "323/323 [==============================] - 2s 7ms/step - loss: 9.5616 - mean_absolute_error: 2.1218 - val_loss: 10.5624 - val_mean_absolute_error: 2.4025\n",
      "Epoch 55/100\n",
      "323/323 [==============================] - 2s 6ms/step - loss: 9.5507 - mean_absolute_error: 2.1040 - val_loss: 11.0259 - val_mean_absolute_error: 2.5303\n",
      "Epoch 56/100\n",
      "323/323 [==============================] - 2s 5ms/step - loss: 9.6539 - mean_absolute_error: 2.1197 - val_loss: 9.8754 - val_mean_absolute_error: 2.3859\n",
      "Epoch 57/100\n",
      "323/323 [==============================] - 2s 6ms/step - loss: 9.2454 - mean_absolute_error: 2.1315 - val_loss: 9.1269 - val_mean_absolute_error: 2.2986\n",
      "Epoch 58/100\n",
      "323/323 [==============================] - 2s 6ms/step - loss: 9.5033 - mean_absolute_error: 2.0618 - val_loss: 10.6536 - val_mean_absolute_error: 2.3349\n",
      "Epoch 59/100\n",
      "323/323 [==============================] - 2s 6ms/step - loss: 9.6850 - mean_absolute_error: 2.1285 - val_loss: 10.0509 - val_mean_absolute_error: 2.4022\n",
      "Epoch 60/100\n",
      "323/323 [==============================] - 2s 5ms/step - loss: 9.1277 - mean_absolute_error: 2.0724 - val_loss: 10.7435 - val_mean_absolute_error: 2.5091\n",
      "Epoch 61/100\n",
      "323/323 [==============================] - 2s 5ms/step - loss: 8.9196 - mean_absolute_error: 2.0465 - val_loss: 10.4133 - val_mean_absolute_error: 2.3382\n",
      "Epoch 62/100\n",
      "323/323 [==============================] - 2s 6ms/step - loss: 8.9307 - mean_absolute_error: 2.0626 - val_loss: 12.5269 - val_mean_absolute_error: 2.6362\n",
      "Epoch 63/100\n",
      "323/323 [==============================] - 2s 6ms/step - loss: 9.0975 - mean_absolute_error: 2.0288 - val_loss: 10.5997 - val_mean_absolute_error: 2.5166\n",
      "Epoch 64/100\n",
      "323/323 [==============================] - 2s 6ms/step - loss: 9.1557 - mean_absolute_error: 2.0392 - val_loss: 10.7901 - val_mean_absolute_error: 2.4576\n",
      "Epoch 65/100\n",
      "323/323 [==============================] - 2s 7ms/step - loss: 8.9193 - mean_absolute_error: 2.0011 - val_loss: 10.3664 - val_mean_absolute_error: 2.3198\n",
      "Epoch 66/100\n",
      "323/323 [==============================] - 2s 6ms/step - loss: 9.1020 - mean_absolute_error: 2.0439 - val_loss: 10.8699 - val_mean_absolute_error: 2.4239\n",
      "Epoch 67/100\n",
      "323/323 [==============================] - 2s 6ms/step - loss: 8.9688 - mean_absolute_error: 1.9951 - val_loss: 10.1913 - val_mean_absolute_error: 2.2963\n",
      "Epoch 68/100\n",
      "323/323 [==============================] - 2s 6ms/step - loss: 8.0232 - mean_absolute_error: 1.9445 - val_loss: 10.9866 - val_mean_absolute_error: 2.4209\n",
      "Epoch 69/100\n",
      "323/323 [==============================] - 2s 6ms/step - loss: 8.4772 - mean_absolute_error: 1.9865 - val_loss: 10.0943 - val_mean_absolute_error: 2.3703\n",
      "Epoch 70/100\n",
      "323/323 [==============================] - 2s 6ms/step - loss: 8.6771 - mean_absolute_error: 1.9645 - val_loss: 11.7338 - val_mean_absolute_error: 2.4015\n",
      "Epoch 71/100\n",
      "323/323 [==============================] - 2s 6ms/step - loss: 8.8182 - mean_absolute_error: 1.9935 - val_loss: 9.9429 - val_mean_absolute_error: 2.2994\n",
      "Epoch 72/100\n",
      "323/323 [==============================] - 2s 6ms/step - loss: 8.8818 - mean_absolute_error: 1.9773 - val_loss: 9.9855 - val_mean_absolute_error: 2.2781\n",
      "Epoch 73/100\n",
      "323/323 [==============================] - 2s 6ms/step - loss: 8.4730 - mean_absolute_error: 1.9842 - val_loss: 13.8179 - val_mean_absolute_error: 2.8034\n",
      "Epoch 74/100\n",
      "323/323 [==============================] - 2s 6ms/step - loss: 8.4810 - mean_absolute_error: 2.0080 - val_loss: 11.5167 - val_mean_absolute_error: 2.5193\n",
      "Epoch 75/100\n",
      "323/323 [==============================] - 2s 6ms/step - loss: 8.4523 - mean_absolute_error: 2.0277 - val_loss: 9.8104 - val_mean_absolute_error: 2.3318\n",
      "Epoch 76/100\n",
      "323/323 [==============================] - 2s 6ms/step - loss: 8.7457 - mean_absolute_error: 1.9514 - val_loss: 9.5546 - val_mean_absolute_error: 2.2937\n",
      "Epoch 77/100\n",
      "323/323 [==============================] - 2s 6ms/step - loss: 7.9008 - mean_absolute_error: 1.9529 - val_loss: 9.9585 - val_mean_absolute_error: 2.2797\n",
      "Epoch 78/100\n",
      "323/323 [==============================] - 2s 7ms/step - loss: 8.0899 - mean_absolute_error: 2.0051 - val_loss: 10.7866 - val_mean_absolute_error: 2.3705\n",
      "Epoch 79/100\n",
      "323/323 [==============================] - 2s 6ms/step - loss: 8.1650 - mean_absolute_error: 1.9791 - val_loss: 10.7107 - val_mean_absolute_error: 2.3582\n",
      "Epoch 80/100\n",
      "323/323 [==============================] - 2s 6ms/step - loss: 8.2577 - mean_absolute_error: 1.9559 - val_loss: 9.7139 - val_mean_absolute_error: 2.3368\n",
      "Epoch 81/100\n",
      "323/323 [==============================] - 2s 6ms/step - loss: 8.0323 - mean_absolute_error: 1.9399 - val_loss: 10.3517 - val_mean_absolute_error: 2.3992\n",
      "Epoch 82/100\n",
      "323/323 [==============================] - 2s 6ms/step - loss: 8.2064 - mean_absolute_error: 1.9554 - val_loss: 9.3403 - val_mean_absolute_error: 2.2350\n",
      "Epoch 83/100\n",
      "323/323 [==============================] - 2s 6ms/step - loss: 7.8763 - mean_absolute_error: 1.8951 - val_loss: 10.1204 - val_mean_absolute_error: 2.2515\n",
      "Epoch 84/100\n",
      "323/323 [==============================] - 2s 6ms/step - loss: 7.9425 - mean_absolute_error: 1.9327 - val_loss: 8.8904 - val_mean_absolute_error: 2.1611\n",
      "Epoch 85/100\n",
      "323/323 [==============================] - 2s 8ms/step - loss: 8.0620 - mean_absolute_error: 1.9287 - val_loss: 13.5624 - val_mean_absolute_error: 2.7627\n",
      "Epoch 86/100\n",
      "323/323 [==============================] - 2s 6ms/step - loss: 8.1320 - mean_absolute_error: 1.9387 - val_loss: 9.5661 - val_mean_absolute_error: 2.1965\n",
      "Epoch 87/100\n",
      "323/323 [==============================] - 2s 6ms/step - loss: 7.4344 - mean_absolute_error: 1.8893 - val_loss: 8.7496 - val_mean_absolute_error: 2.1469\n",
      "Epoch 88/100\n",
      "323/323 [==============================] - 2s 6ms/step - loss: 7.9471 - mean_absolute_error: 1.9140 - val_loss: 9.0983 - val_mean_absolute_error: 2.2352\n",
      "Epoch 89/100\n",
      "323/323 [==============================] - 2s 6ms/step - loss: 7.5977 - mean_absolute_error: 1.9054 - val_loss: 8.7993 - val_mean_absolute_error: 2.1844\n",
      "Epoch 90/100\n",
      "323/323 [==============================] - 2s 6ms/step - loss: 7.9331 - mean_absolute_error: 1.9580 - val_loss: 9.0419 - val_mean_absolute_error: 2.1903\n",
      "Epoch 91/100\n",
      "323/323 [==============================] - 2s 6ms/step - loss: 7.2670 - mean_absolute_error: 1.8773 - val_loss: 12.2907 - val_mean_absolute_error: 2.6043\n",
      "Epoch 92/100\n",
      "323/323 [==============================] - 2s 6ms/step - loss: 8.1205 - mean_absolute_error: 1.9379 - val_loss: 8.5690 - val_mean_absolute_error: 2.1743\n",
      "Epoch 93/100\n",
      "323/323 [==============================] - 2s 6ms/step - loss: 7.8696 - mean_absolute_error: 1.8882 - val_loss: 12.6499 - val_mean_absolute_error: 2.7470\n",
      "Epoch 94/100\n",
      "323/323 [==============================] - 2s 6ms/step - loss: 8.1801 - mean_absolute_error: 1.9085 - val_loss: 9.3428 - val_mean_absolute_error: 2.2390\n",
      "Epoch 95/100\n",
      "323/323 [==============================] - 2s 6ms/step - loss: 7.8144 - mean_absolute_error: 1.9283 - val_loss: 8.1733 - val_mean_absolute_error: 2.0781\n",
      "Epoch 96/100\n",
      "323/323 [==============================] - 2s 7ms/step - loss: 7.4496 - mean_absolute_error: 1.8187 - val_loss: 10.5402 - val_mean_absolute_error: 2.4164\n",
      "Epoch 97/100\n",
      "323/323 [==============================] - 2s 6ms/step - loss: 7.2576 - mean_absolute_error: 1.9375 - val_loss: 9.5789 - val_mean_absolute_error: 2.1999\n",
      "Epoch 98/100\n"
     ]
    },
    {
     "name": "stdout",
     "output_type": "stream",
     "text": [
      "323/323 [==============================] - 2s 6ms/step - loss: 7.6313 - mean_absolute_error: 1.9231 - val_loss: 10.0048 - val_mean_absolute_error: 2.2424\n",
      "Epoch 99/100\n",
      "323/323 [==============================] - 2s 6ms/step - loss: 7.4919 - mean_absolute_error: 1.8576 - val_loss: 9.5656 - val_mean_absolute_error: 2.1732\n",
      "Epoch 100/100\n",
      "323/323 [==============================] - 2s 6ms/step - loss: 7.6377 - mean_absolute_error: 1.8311 - val_loss: 9.9063 - val_mean_absolute_error: 2.2804\n",
      "102/102 [==============================] - 0s 137us/step\n"
     ]
    },
    {
     "data": {
      "text/plain": [
       "[18.08816857431449, 2.616043539608226]"
      ]
     },
     "execution_count": 11,
     "metadata": {},
     "output_type": "execute_result"
    }
   ],
   "source": [
    "history = model.fit(train_data, train_targets ,epochs = 100, batch_size=1, validation_split=0.2)\n",
    "model.evaluate(test_data, test_targets)"
   ]
  },
  {
   "cell_type": "code",
   "execution_count": 12,
   "metadata": {},
   "outputs": [
    {
     "data": {
      "text/plain": [
       "['loss', 'mean_absolute_error']"
      ]
     },
     "execution_count": 12,
     "metadata": {},
     "output_type": "execute_result"
    }
   ],
   "source": [
    "model.metrics_names"
   ]
  },
  {
   "cell_type": "code",
   "execution_count": 13,
   "metadata": {},
   "outputs": [
    {
     "data": {
      "text/plain": [
       "dict_keys(['val_loss', 'val_mean_absolute_error', 'loss', 'mean_absolute_error'])"
      ]
     },
     "execution_count": 13,
     "metadata": {},
     "output_type": "execute_result"
    }
   ],
   "source": [
    "history.history.keys()"
   ]
  },
  {
   "cell_type": "markdown",
   "metadata": {},
   "source": [
    "# 시각화"
   ]
  },
  {
   "cell_type": "code",
   "execution_count": 14,
   "metadata": {},
   "outputs": [],
   "source": [
    "import matplotlib.pyplot as plt"
   ]
  },
  {
   "cell_type": "code",
   "execution_count": 15,
   "metadata": {},
   "outputs": [
    {
     "data": {
      "image/png": "[encoded data removed]",
      "text/plain": [
       "<Figure size 432x288 with 1 Axes>"
      ]
     },
     "metadata": {},
     "output_type": "display_data"
    }
   ],
   "source": [
    "mae = history.history['mean_absolute_error']\n",
    "val_mae = history.history['val_mean_absolute_error']\n",
    "loss = history.history['loss']\n",
    "val_loss = history.history['val_loss']\n",
    "\n",
    "epochs = range(1, len(mae) + 1)\n",
    "\n",
    "plt.plot(epochs, loss, 'b', label='Training loss')\n",
    "plt.plot(epochs, val_loss, 'b--', label='Validation loss')\n",
    "plt.title('Training and validation loss')\n",
    "plt.xlabel('Epochs')\n",
    "plt.ylabel('Loss')\n",
    "plt.legend()\n",
    "\n",
    "plt.show()"
   ]
  },
  {
   "cell_type": "code",
   "execution_count": 16,
   "metadata": {},
   "outputs": [
    {
     "data": {
      "image/png": "[encoded data removed]",
      "text/plain": [
       "<Figure size 432x288 with 1 Axes>"
      ]
     },
     "metadata": {},
     "output_type": "display_data"
    }
   ],
   "source": [
    "plt.plot(epochs, mae, 'b', label='Training mae')\n",
    "plt.plot(epochs, val_mae, 'b--', label='Validation mae')\n",
    "plt.title('Training and validation mae')\n",
    "plt.xlabel('Epochs')\n",
    "plt.ylabel('Loss')\n",
    "plt.legend()\n",
    "\n",
    "plt.show()"
   ]
  },
  {
   "cell_type": "code",
   "execution_count": 17,
   "metadata": {},
   "outputs": [],
   "source": [
    "def smooth_curve(points, factor = 0.9):\n",
    "    smoothed_points = []\n",
    "    for point in points:\n",
    "        if smoothed_points:\n",
    "            previous = smoothed_points[-1]\n",
    "            smoothed_points.append(previous * factor + point * (1 - factor))\n",
    "        else:\n",
    "            smoothed_points.append(point)\n",
    "    return smoothed_points "
   ]
  },
  {
   "cell_type": "code",
   "execution_count": 18,
   "metadata": {},
   "outputs": [
    {
     "data": {
      "image/png": "[encoded data removed]",
      "text/plain": [
       "<Figure size 432x288 with 1 Axes>"
      ]
     },
     "metadata": {},
     "output_type": "display_data"
    }
   ],
   "source": [
    "smooth_loss = smooth_curve(loss)\n",
    "smooth_val_loss = smooth_curve(val_loss)\n",
    "\n",
    "plt.plot(range(1,len(smooth_loss)+1), smooth_loss, label='loss')\n",
    "plt.plot(range(1,len(smooth_loss)+1), smooth_val_loss,label='val_loss')\n",
    "plt.xlabel('Epoch')\n",
    "plt.ylabel('Loss')\n",
    "plt.legend()\n",
    "plt.show()"
   ]
  },
  {
   "cell_type": "code",
   "execution_count": 19,
   "metadata": {},
   "outputs": [
    {
     "data": {
      "image/png": "[encoded data removed]",
      "text/plain": [
       "<Figure size 432x288 with 1 Axes>"
      ]
     },
     "metadata": {},
     "output_type": "display_data"
    }
   ],
   "source": [
    "smooth_mae = smooth_curve(mae)\n",
    "smooth_val_mae = smooth_curve(val_mae)\n",
    "\n",
    "plt.plot(range(1,len(smooth_mae)+1), smooth_mae, label='mae')\n",
    "plt.plot(range(1,len(smooth_mae)+1), smooth_val_mae,label='val mae')\n",
    "plt.xlabel('Epoch')\n",
    "plt.ylabel('mae')\n",
    "plt.legend()\n",
    "plt.show()"
   ]
  },
  {
   "cell_type": "code",
   "execution_count": null,
   "metadata": {},
   "outputs": [],
   "source": []
  },
  {
   "cell_type": "code",
   "execution_count": null,
   "metadata": {},
   "outputs": [],
   "source": []
  },
  {
   "cell_type": "code",
   "execution_count": null,
   "metadata": {},
   "outputs": [],
   "source": []
  }
 ],
 "metadata": {
  "kernelspec": {
   "display_name": "Python 3",
   "language": "python",
   "name": "python3"
  },
  "language_info": {
   "codemirror_mode": {
    "name": "ipython",
    "version": 3
   },
   "file_extension": ".py",
   "mimetype": "text/x-python",
   "name": "python",
   "nbconvert_exporter": "python",
   "pygments_lexer": "ipython3",
   "version": "3.6.5"
  }
 },
 "nbformat": 4,
 "nbformat_minor": 2
}
