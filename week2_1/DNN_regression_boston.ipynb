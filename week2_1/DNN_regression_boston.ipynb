{
 "cells": [
  {
   "cell_type": "markdown",
   "metadata": {},
   "source": [
    "## Boston housing - DNN regression example"
   ]
  },
  {
   "cell_type": "code",
   "execution_count": 35,
   "metadata": {},
   "outputs": [
    {
     "data": {
      "text/plain": [
       "'2.2.4'"
      ]
     },
     "execution_count": 35,
     "metadata": {},
     "output_type": "execute_result"
    }
   ],
   "source": [
    "import keras\n",
    "keras.__version__"
   ]
  },
  {
   "cell_type": "code",
   "execution_count": 36,
   "metadata": {},
   "outputs": [],
   "source": [
    "from keras.datasets import boston_housing\n",
    "\n",
    "(train_data, train_targets), (test_data, test_targets) = boston_housing.load_data()"
   ]
  },
  {
   "cell_type": "code",
   "execution_count": 37,
   "metadata": {},
   "outputs": [
    {
     "data": {
      "text/plain": [
       "(404, 13)"
      ]
     },
     "execution_count": 37,
     "metadata": {},
     "output_type": "execute_result"
    }
   ],
   "source": [
    "train_data.shape"
   ]
  },
  {
   "cell_type": "code",
   "execution_count": 38,
   "metadata": {},
   "outputs": [
    {
     "data": {
      "text/plain": [
       "(102, 13)"
      ]
     },
     "execution_count": 38,
     "metadata": {},
     "output_type": "execute_result"
    }
   ],
   "source": [
    "test_data.shape"
   ]
  },
  {
   "cell_type": "code",
   "execution_count": 39,
   "metadata": {},
   "outputs": [
    {
     "data": {
      "text/plain": [
       "array([15.2, 42.3, 50. , 21.1, 17.7, 18.5, 11.3, 15.6, 15.6, 14.4, 12.1,\n",
       "       17.9, 23.1, 19.9, 15.7,  8.8, 50. , 22.5, 24.1, 27.5, 10.9, 30.8,\n",
       "       32.9, 24. , 18.5, 13.3, 22.9, 34.7, 16.6, 17.5, 22.3, 16.1, 14.9,\n",
       "       23.1, 34.9, 25. , 13.9, 13.1, 20.4, 20. , 15.2, 24.7, 22.2, 16.7,\n",
       "       12.7, 15.6, 18.4, 21. , 30.1, 15.1, 18.7,  9.6, 31.5, 24.8, 19.1,\n",
       "       22. , 14.5, 11. , 32. , 29.4, 20.3, 24.4, 14.6, 19.5, 14.1, 14.3,\n",
       "       15.6, 10.5,  6.3, 19.3, 19.3, 13.4, 36.4, 17.8, 13.5, 16.5,  8.3,\n",
       "       14.3, 16. , 13.4, 28.6, 43.5, 20.2, 22. , 23. , 20.7, 12.5, 48.5,\n",
       "       14.6, 13.4, 23.7, 50. , 21.7, 39.8, 38.7, 22.2, 34.9, 22.5, 31.1,\n",
       "       28.7, 46. , 41.7, 21. , 26.6, 15. , 24.4, 13.3, 21.2, 11.7, 21.7,\n",
       "       19.4, 50. , 22.8, 19.7, 24.7, 36.2, 14.2, 18.9, 18.3, 20.6, 24.6,\n",
       "       18.2,  8.7, 44. , 10.4, 13.2, 21.2, 37. , 30.7, 22.9, 20. , 19.3,\n",
       "       31.7, 32. , 23.1, 18.8, 10.9, 50. , 19.6,  5. , 14.4, 19.8, 13.8,\n",
       "       19.6, 23.9, 24.5, 25. , 19.9, 17.2, 24.6, 13.5, 26.6, 21.4, 11.9,\n",
       "       22.6, 19.6,  8.5, 23.7, 23.1, 22.4, 20.5, 23.6, 18.4, 35.2, 23.1,\n",
       "       27.9, 20.6, 23.7, 28. , 13.6, 27.1, 23.6, 20.6, 18.2, 21.7, 17.1,\n",
       "        8.4, 25.3, 13.8, 22.2, 18.4, 20.7, 31.6, 30.5, 20.3,  8.8, 19.2,\n",
       "       19.4, 23.1, 23. , 14.8, 48.8, 22.6, 33.4, 21.1, 13.6, 32.2, 13.1,\n",
       "       23.4, 18.9, 23.9, 11.8, 23.3, 22.8, 19.6, 16.7, 13.4, 22.2, 20.4,\n",
       "       21.8, 26.4, 14.9, 24.1, 23.8, 12.3, 29.1, 21. , 19.5, 23.3, 23.8,\n",
       "       17.8, 11.5, 21.7, 19.9, 25. , 33.4, 28.5, 21.4, 24.3, 27.5, 33.1,\n",
       "       16.2, 23.3, 48.3, 22.9, 22.8, 13.1, 12.7, 22.6, 15. , 15.3, 10.5,\n",
       "       24. , 18.5, 21.7, 19.5, 33.2, 23.2,  5. , 19.1, 12.7, 22.3, 10.2,\n",
       "       13.9, 16.3, 17. , 20.1, 29.9, 17.2, 37.3, 45.4, 17.8, 23.2, 29. ,\n",
       "       22. , 18. , 17.4, 34.6, 20.1, 25. , 15.6, 24.8, 28.2, 21.2, 21.4,\n",
       "       23.8, 31. , 26.2, 17.4, 37.9, 17.5, 20. ,  8.3, 23.9,  8.4, 13.8,\n",
       "        7.2, 11.7, 17.1, 21.6, 50. , 16.1, 20.4, 20.6, 21.4, 20.6, 36.5,\n",
       "        8.5, 24.8, 10.8, 21.9, 17.3, 18.9, 36.2, 14.9, 18.2, 33.3, 21.8,\n",
       "       19.7, 31.6, 24.8, 19.4, 22.8,  7.5, 44.8, 16.8, 18.7, 50. , 50. ,\n",
       "       19.5, 20.1, 50. , 17.2, 20.8, 19.3, 41.3, 20.4, 20.5, 13.8, 16.5,\n",
       "       23.9, 20.6, 31.5, 23.3, 16.8, 14. , 33.8, 36.1, 12.8, 18.3, 18.7,\n",
       "       19.1, 29. , 30.1, 50. , 50. , 22. , 11.9, 37.6, 50. , 22.7, 20.8,\n",
       "       23.5, 27.9, 50. , 19.3, 23.9, 22.6, 15.2, 21.7, 19.2, 43.8, 20.3,\n",
       "       33.2, 19.9, 22.5, 32.7, 22. , 17.1, 19. , 15. , 16.1, 25.1, 23.7,\n",
       "       28.7, 37.2, 22.6, 16.4, 25. , 29.8, 22.1, 17.4, 18.1, 30.3, 17.5,\n",
       "       24.7, 12.6, 26.5, 28.7, 13.3, 10.4, 24.4, 23. , 20. , 17.8,  7. ,\n",
       "       11.8, 24.4, 13.8, 19.4, 25.2, 19.4, 19.4, 29.1])"
      ]
     },
     "execution_count": 39,
     "metadata": {},
     "output_type": "execute_result"
    }
   ],
   "source": [
    "train_targets"
   ]
  },
  {
   "cell_type": "markdown",
   "metadata": {},
   "source": [
    "# Data preparation"
   ]
  },
  {
   "cell_type": "code",
   "execution_count": 40,
   "metadata": {},
   "outputs": [],
   "source": [
    "# 직접 구현하는 방법 \n",
    "# mean = train_data.mean(axis=0)\n",
    "# train_data -= mean\n",
    "# std = train_data.std(axis=0)\n",
    "# train_data /= std \n",
    "\n",
    "# test_data -=mean \n",
    "# test_data /=std"
   ]
  },
  {
   "cell_type": "code",
   "execution_count": 41,
   "metadata": {},
   "outputs": [],
   "source": [
    "from sklearn.preprocessing import MinMaxScaler \n",
    "\n",
    "m = MinMaxScaler()\n",
    "train_data = m.fit_transform(train_data)\n",
    "test_data = m.transform(test_data)"
   ]
  },
  {
   "cell_type": "markdown",
   "metadata": {},
   "source": [
    "# Modeling"
   ]
  },
  {
   "cell_type": "code",
   "execution_count": 42,
   "metadata": {},
   "outputs": [],
   "source": [
    "from keras import models\n",
    "from keras import layers\n",
    "\n",
    "model = models.Sequential()\n",
    "model.add(layers.Dense(64, activation='relu'\n",
    "               , input_shape=(train_data.shape[1],)))\n",
    "model.add(layers.Dense(64, activation='relu'))\n",
    "model.add(layers.Dense(1))\n",
    "model.compile(optimizer='rmsprop', loss='mse',metrics=['mae'])"
   ]
  },
  {
   "cell_type": "code",
   "execution_count": 43,
   "metadata": {},
   "outputs": [
    {
     "name": "stdout",
     "output_type": "stream",
     "text": [
      "Train on 323 samples, validate on 81 samples\n",
      "Epoch 1/100\n",
      "323/323 [==============================] - 2s 8ms/step - loss: 204.9971 - mean_absolute_error: 10.8096 - val_loss: 90.7422 - val_mean_absolute_error: 7.1432\n",
      "Epoch 2/100\n",
      "323/323 [==============================] - 2s 6ms/step - loss: 68.3552 - mean_absolute_error: 5.7127 - val_loss: 65.5712 - val_mean_absolute_error: 5.3212\n",
      "Epoch 3/100\n",
      "323/323 [==============================] - 2s 6ms/step - loss: 51.0839 - mean_absolute_error: 4.8720 - val_loss: 51.3389 - val_mean_absolute_error: 4.8229\n",
      "Epoch 4/100\n",
      "323/323 [==============================] - 2s 6ms/step - loss: 43.7846 - mean_absolute_error: 4.4612 - val_loss: 44.8323 - val_mean_absolute_error: 4.5103\n",
      "Epoch 5/100\n",
      "323/323 [==============================] - 2s 6ms/step - loss: 37.4495 - mean_absolute_error: 4.1474 - val_loss: 35.0723 - val_mean_absolute_error: 4.1858\n",
      "Epoch 6/100\n",
      "323/323 [==============================] - 2s 6ms/step - loss: 31.4671 - mean_absolute_error: 3.8985 - val_loss: 30.7361 - val_mean_absolute_error: 3.7584\n",
      "Epoch 7/100\n",
      "323/323 [==============================] - 2s 6ms/step - loss: 27.7994 - mean_absolute_error: 3.6097 - val_loss: 26.9542 - val_mean_absolute_error: 3.5578\n",
      "Epoch 8/100\n",
      "323/323 [==============================] - 2s 6ms/step - loss: 25.4652 - mean_absolute_error: 3.3672 - val_loss: 24.5613 - val_mean_absolute_error: 3.5524\n",
      "Epoch 9/100\n",
      "323/323 [==============================] - 2s 6ms/step - loss: 23.9169 - mean_absolute_error: 3.2914 - val_loss: 23.1844 - val_mean_absolute_error: 3.2766\n",
      "Epoch 10/100\n",
      "323/323 [==============================] - 2s 6ms/step - loss: 21.3742 - mean_absolute_error: 3.2567 - val_loss: 21.6409 - val_mean_absolute_error: 3.3979\n",
      "Epoch 11/100\n",
      "323/323 [==============================] - 2s 5ms/step - loss: 19.7961 - mean_absolute_error: 2.9826 - val_loss: 25.2037 - val_mean_absolute_error: 3.3553\n",
      "Epoch 12/100\n",
      "323/323 [==============================] - 2s 5ms/step - loss: 21.0530 - mean_absolute_error: 2.9959 - val_loss: 20.5181 - val_mean_absolute_error: 3.3668\n",
      "Epoch 13/100\n",
      "323/323 [==============================] - 2s 5ms/step - loss: 20.8775 - mean_absolute_error: 3.0250 - val_loss: 20.1465 - val_mean_absolute_error: 3.3545\n",
      "Epoch 14/100\n",
      "323/323 [==============================] - 2s 6ms/step - loss: 20.7212 - mean_absolute_error: 2.9550 - val_loss: 19.8473 - val_mean_absolute_error: 3.0109\n",
      "Epoch 15/100\n",
      "323/323 [==============================] - 2s 6ms/step - loss: 19.4207 - mean_absolute_error: 2.9848 - val_loss: 18.4249 - val_mean_absolute_error: 2.9772\n",
      "Epoch 16/100\n",
      "323/323 [==============================] - 2s 6ms/step - loss: 18.8503 - mean_absolute_error: 2.8678 - val_loss: 18.8402 - val_mean_absolute_error: 2.9691\n",
      "Epoch 17/100\n",
      "323/323 [==============================] - 2s 6ms/step - loss: 18.8043 - mean_absolute_error: 2.8359 - val_loss: 20.0396 - val_mean_absolute_error: 2.9467\n",
      "Epoch 18/100\n",
      "323/323 [==============================] - 2s 6ms/step - loss: 18.8291 - mean_absolute_error: 2.8001 - val_loss: 17.1866 - val_mean_absolute_error: 2.9291\n",
      "Epoch 19/100\n",
      "323/323 [==============================] - 2s 6ms/step - loss: 18.2270 - mean_absolute_error: 2.8055 - val_loss: 16.7638 - val_mean_absolute_error: 2.8135\n",
      "Epoch 20/100\n",
      "323/323 [==============================] - 2s 6ms/step - loss: 17.7132 - mean_absolute_error: 2.8918 - val_loss: 19.4367 - val_mean_absolute_error: 2.9144\n",
      "Epoch 21/100\n",
      "323/323 [==============================] - 2s 6ms/step - loss: 17.2124 - mean_absolute_error: 2.7734 - val_loss: 16.1110 - val_mean_absolute_error: 2.9501\n",
      "Epoch 22/100\n",
      "323/323 [==============================] - 2s 6ms/step - loss: 17.1008 - mean_absolute_error: 2.7696 - val_loss: 20.2700 - val_mean_absolute_error: 2.9484\n",
      "Epoch 23/100\n",
      "323/323 [==============================] - 2s 6ms/step - loss: 16.7733 - mean_absolute_error: 2.7115 - val_loss: 16.2239 - val_mean_absolute_error: 2.7086\n",
      "Epoch 24/100\n",
      "323/323 [==============================] - 2s 6ms/step - loss: 16.4946 - mean_absolute_error: 2.6544 - val_loss: 15.8057 - val_mean_absolute_error: 2.7232\n",
      "Epoch 25/100\n",
      "323/323 [==============================] - 2s 6ms/step - loss: 16.3417 - mean_absolute_error: 2.6397 - val_loss: 20.7351 - val_mean_absolute_error: 2.9723\n",
      "Epoch 26/100\n",
      "323/323 [==============================] - 2s 6ms/step - loss: 15.9949 - mean_absolute_error: 2.6295 - val_loss: 15.3183 - val_mean_absolute_error: 2.8161\n",
      "Epoch 27/100\n",
      "323/323 [==============================] - 2s 6ms/step - loss: 15.6520 - mean_absolute_error: 2.6291 - val_loss: 15.1099 - val_mean_absolute_error: 2.6742\n",
      "Epoch 28/100\n",
      "323/323 [==============================] - 2s 6ms/step - loss: 15.2924 - mean_absolute_error: 2.6024 - val_loss: 15.1640 - val_mean_absolute_error: 2.8494\n",
      "Epoch 29/100\n",
      "323/323 [==============================] - 2s 6ms/step - loss: 15.1435 - mean_absolute_error: 2.5860 - val_loss: 16.2926 - val_mean_absolute_error: 2.7129\n",
      "Epoch 30/100\n",
      "323/323 [==============================] - 2s 5ms/step - loss: 14.2404 - mean_absolute_error: 2.5143 - val_loss: 17.6049 - val_mean_absolute_error: 2.8169\n",
      "Epoch 31/100\n",
      "323/323 [==============================] - 2s 6ms/step - loss: 14.8598 - mean_absolute_error: 2.5486 - val_loss: 15.9610 - val_mean_absolute_error: 2.6976\n",
      "Epoch 32/100\n",
      "323/323 [==============================] - 2s 6ms/step - loss: 14.1271 - mean_absolute_error: 2.4626 - val_loss: 17.3212 - val_mean_absolute_error: 3.4172\n",
      "Epoch 33/100\n",
      "323/323 [==============================] - 2s 6ms/step - loss: 13.4778 - mean_absolute_error: 2.5146 - val_loss: 13.3560 - val_mean_absolute_error: 2.5072\n",
      "Epoch 34/100\n",
      "323/323 [==============================] - 2s 6ms/step - loss: 13.5971 - mean_absolute_error: 2.4391 - val_loss: 12.9971 - val_mean_absolute_error: 2.6279\n",
      "Epoch 35/100\n",
      "323/323 [==============================] - 2s 5ms/step - loss: 13.0510 - mean_absolute_error: 2.4925 - val_loss: 13.8914 - val_mean_absolute_error: 2.5437\n",
      "Epoch 36/100\n",
      "323/323 [==============================] - 2s 6ms/step - loss: 12.6145 - mean_absolute_error: 2.4610 - val_loss: 15.9221 - val_mean_absolute_error: 2.7564\n",
      "Epoch 37/100\n",
      "323/323 [==============================] - 2s 6ms/step - loss: 12.9933 - mean_absolute_error: 2.4690 - val_loss: 13.1594 - val_mean_absolute_error: 2.5294\n",
      "Epoch 38/100\n",
      "323/323 [==============================] - 2s 6ms/step - loss: 12.4299 - mean_absolute_error: 2.3829 - val_loss: 12.9802 - val_mean_absolute_error: 2.5990\n",
      "Epoch 39/100\n",
      "323/323 [==============================] - 2s 6ms/step - loss: 12.2262 - mean_absolute_error: 2.3720 - val_loss: 12.8427 - val_mean_absolute_error: 2.5319\n",
      "Epoch 40/100\n",
      "323/323 [==============================] - 2s 6ms/step - loss: 12.1006 - mean_absolute_error: 2.3145 - val_loss: 13.2233 - val_mean_absolute_error: 2.7739\n",
      "Epoch 41/100\n",
      "323/323 [==============================] - 2s 6ms/step - loss: 12.2132 - mean_absolute_error: 2.2850 - val_loss: 13.5475 - val_mean_absolute_error: 2.8175\n",
      "Epoch 42/100\n",
      "323/323 [==============================] - 2s 6ms/step - loss: 11.6126 - mean_absolute_error: 2.3770 - val_loss: 13.2847 - val_mean_absolute_error: 2.8253\n",
      "Epoch 43/100\n",
      "323/323 [==============================] - 2s 6ms/step - loss: 11.3427 - mean_absolute_error: 2.3585 - val_loss: 13.5062 - val_mean_absolute_error: 2.6379\n",
      "Epoch 44/100\n",
      "323/323 [==============================] - 2s 6ms/step - loss: 11.3922 - mean_absolute_error: 2.2571 - val_loss: 15.1311 - val_mean_absolute_error: 3.0526\n",
      "Epoch 45/100\n",
      "323/323 [==============================] - 2s 6ms/step - loss: 10.7301 - mean_absolute_error: 2.2599 - val_loss: 13.2029 - val_mean_absolute_error: 2.4659\n",
      "Epoch 46/100\n",
      "323/323 [==============================] - 2s 6ms/step - loss: 10.6691 - mean_absolute_error: 2.2285 - val_loss: 12.7748 - val_mean_absolute_error: 2.5681\n",
      "Epoch 47/100\n",
      "323/323 [==============================] - 2s 6ms/step - loss: 10.9746 - mean_absolute_error: 2.2582 - val_loss: 12.1203 - val_mean_absolute_error: 2.5415\n",
      "Epoch 48/100\n",
      "323/323 [==============================] - 2s 5ms/step - loss: 10.9003 - mean_absolute_error: 2.2810 - val_loss: 13.2021 - val_mean_absolute_error: 2.5549\n",
      "Epoch 49/100\n"
     ]
    },
    {
     "name": "stdout",
     "output_type": "stream",
     "text": [
      "323/323 [==============================] - 2s 6ms/step - loss: 10.4684 - mean_absolute_error: 2.2384 - val_loss: 13.5559 - val_mean_absolute_error: 2.8608\n",
      "Epoch 50/100\n",
      "323/323 [==============================] - 2s 5ms/step - loss: 10.2429 - mean_absolute_error: 2.1989 - val_loss: 11.8850 - val_mean_absolute_error: 2.4832\n",
      "Epoch 51/100\n",
      "323/323 [==============================] - 2s 6ms/step - loss: 10.4216 - mean_absolute_error: 2.1976 - val_loss: 16.0804 - val_mean_absolute_error: 2.8451\n",
      "Epoch 52/100\n",
      "323/323 [==============================] - 2s 6ms/step - loss: 10.2797 - mean_absolute_error: 2.1891 - val_loss: 12.9457 - val_mean_absolute_error: 2.7233\n",
      "Epoch 53/100\n",
      "323/323 [==============================] - 2s 6ms/step - loss: 10.4394 - mean_absolute_error: 2.1705 - val_loss: 14.0802 - val_mean_absolute_error: 2.6356\n",
      "Epoch 54/100\n",
      "323/323 [==============================] - 2s 6ms/step - loss: 9.8631 - mean_absolute_error: 2.1694 - val_loss: 13.8237 - val_mean_absolute_error: 2.9487\n",
      "Epoch 55/100\n",
      "323/323 [==============================] - 2s 6ms/step - loss: 10.2150 - mean_absolute_error: 2.1917 - val_loss: 12.6301 - val_mean_absolute_error: 2.5624\n",
      "Epoch 56/100\n",
      "323/323 [==============================] - 2s 6ms/step - loss: 9.6613 - mean_absolute_error: 2.1363 - val_loss: 12.8350 - val_mean_absolute_error: 2.6723\n",
      "Epoch 57/100\n",
      "323/323 [==============================] - 2s 5ms/step - loss: 9.6648 - mean_absolute_error: 2.0692 - val_loss: 12.8784 - val_mean_absolute_error: 2.6304\n",
      "Epoch 58/100\n",
      "323/323 [==============================] - 2s 6ms/step - loss: 10.4029 - mean_absolute_error: 2.2034 - val_loss: 14.6459 - val_mean_absolute_error: 2.5978\n",
      "Epoch 59/100\n",
      "323/323 [==============================] - 2s 6ms/step - loss: 9.0358 - mean_absolute_error: 2.0922 - val_loss: 12.5117 - val_mean_absolute_error: 2.5413\n",
      "Epoch 60/100\n",
      "323/323 [==============================] - 2s 6ms/step - loss: 9.3856 - mean_absolute_error: 2.1015 - val_loss: 13.8399 - val_mean_absolute_error: 2.7533\n",
      "Epoch 61/100\n",
      "323/323 [==============================] - 2s 6ms/step - loss: 9.4262 - mean_absolute_error: 2.1571 - val_loss: 12.7708 - val_mean_absolute_error: 2.5458\n",
      "Epoch 62/100\n",
      "323/323 [==============================] - 2s 6ms/step - loss: 9.6689 - mean_absolute_error: 2.1723 - val_loss: 13.1238 - val_mean_absolute_error: 2.5706\n",
      "Epoch 63/100\n",
      "323/323 [==============================] - 2s 6ms/step - loss: 9.2341 - mean_absolute_error: 2.1066 - val_loss: 21.3150 - val_mean_absolute_error: 3.8652\n",
      "Epoch 64/100\n",
      "323/323 [==============================] - 2s 5ms/step - loss: 9.5233 - mean_absolute_error: 2.1305 - val_loss: 13.0566 - val_mean_absolute_error: 2.7338\n",
      "Epoch 65/100\n",
      "323/323 [==============================] - 2s 6ms/step - loss: 9.4390 - mean_absolute_error: 2.0605 - val_loss: 12.2954 - val_mean_absolute_error: 2.5500\n",
      "Epoch 66/100\n",
      "323/323 [==============================] - 2s 6ms/step - loss: 9.1865 - mean_absolute_error: 2.1551 - val_loss: 12.1717 - val_mean_absolute_error: 2.4732\n",
      "Epoch 67/100\n",
      "323/323 [==============================] - 2s 6ms/step - loss: 9.2260 - mean_absolute_error: 2.1449 - val_loss: 12.5376 - val_mean_absolute_error: 2.4880\n",
      "Epoch 68/100\n",
      "323/323 [==============================] - 2s 6ms/step - loss: 8.9370 - mean_absolute_error: 2.0741 - val_loss: 12.6239 - val_mean_absolute_error: 2.4930\n",
      "Epoch 69/100\n",
      "323/323 [==============================] - 2s 6ms/step - loss: 9.5837 - mean_absolute_error: 2.1026 - val_loss: 13.7924 - val_mean_absolute_error: 2.8889\n",
      "Epoch 70/100\n",
      "323/323 [==============================] - 2s 6ms/step - loss: 9.2217 - mean_absolute_error: 2.0668 - val_loss: 12.7084 - val_mean_absolute_error: 2.4671\n",
      "Epoch 71/100\n",
      "323/323 [==============================] - ETA: 0s - loss: 9.0285 - mean_absolute_error: 2.104 - 2s 6ms/step - loss: 9.0054 - mean_absolute_error: 2.1023 - val_loss: 11.8084 - val_mean_absolute_error: 2.5053\n",
      "Epoch 72/100\n",
      "323/323 [==============================] - 2s 6ms/step - loss: 8.8122 - mean_absolute_error: 2.0498 - val_loss: 12.0625 - val_mean_absolute_error: 2.5985\n",
      "Epoch 73/100\n",
      "323/323 [==============================] - 2s 6ms/step - loss: 8.9021 - mean_absolute_error: 1.9547 - val_loss: 11.9313 - val_mean_absolute_error: 2.5029\n",
      "Epoch 74/100\n",
      "323/323 [==============================] - 2s 6ms/step - loss: 8.7360 - mean_absolute_error: 1.9825 - val_loss: 12.3576 - val_mean_absolute_error: 2.5089\n",
      "Epoch 75/100\n",
      "323/323 [==============================] - 2s 5ms/step - loss: 8.5000 - mean_absolute_error: 2.0124 - val_loss: 13.4792 - val_mean_absolute_error: 2.5839\n",
      "Epoch 76/100\n",
      "323/323 [==============================] - 2s 6ms/step - loss: 8.3881 - mean_absolute_error: 2.0236 - val_loss: 11.4535 - val_mean_absolute_error: 2.5212\n",
      "Epoch 77/100\n",
      "323/323 [==============================] - 2s 6ms/step - loss: 8.5999 - mean_absolute_error: 2.0301 - val_loss: 12.1120 - val_mean_absolute_error: 2.5972\n",
      "Epoch 78/100\n",
      "323/323 [==============================] - 2s 7ms/step - loss: 8.4266 - mean_absolute_error: 2.0348 - val_loss: 11.0089 - val_mean_absolute_error: 2.4366\n",
      "Epoch 79/100\n",
      "323/323 [==============================] - 2s 6ms/step - loss: 8.4382 - mean_absolute_error: 2.0378 - val_loss: 12.3357 - val_mean_absolute_error: 2.5281\n",
      "Epoch 80/100\n",
      "323/323 [==============================] - 2s 6ms/step - loss: 8.3556 - mean_absolute_error: 2.0451 - val_loss: 11.7009 - val_mean_absolute_error: 2.4811\n",
      "Epoch 81/100\n",
      "323/323 [==============================] - 2s 6ms/step - loss: 8.4400 - mean_absolute_error: 2.0429 - val_loss: 12.5243 - val_mean_absolute_error: 2.4511\n",
      "Epoch 82/100\n",
      "323/323 [==============================] - 2s 6ms/step - loss: 8.5107 - mean_absolute_error: 2.0343 - val_loss: 14.2244 - val_mean_absolute_error: 2.6844\n",
      "Epoch 83/100\n",
      "323/323 [==============================] - 2s 6ms/step - loss: 8.7577 - mean_absolute_error: 2.0131 - val_loss: 12.8508 - val_mean_absolute_error: 2.8466\n",
      "Epoch 84/100\n",
      "323/323 [==============================] - 2s 5ms/step - loss: 8.6027 - mean_absolute_error: 1.9540 - val_loss: 12.6805 - val_mean_absolute_error: 2.5160\n",
      "Epoch 85/100\n",
      "323/323 [==============================] - ETA: 0s - loss: 8.4759 - mean_absolute_error: 2.046 - 2s 6ms/step - loss: 8.3397 - mean_absolute_error: 2.0345 - val_loss: 11.8584 - val_mean_absolute_error: 2.4264\n",
      "Epoch 86/100\n",
      "323/323 [==============================] - 2s 6ms/step - loss: 8.2775 - mean_absolute_error: 1.9989 - val_loss: 10.6913 - val_mean_absolute_error: 2.4530\n",
      "Epoch 87/100\n",
      "323/323 [==============================] - 2s 5ms/step - loss: 7.9225 - mean_absolute_error: 1.9683 - val_loss: 10.6372 - val_mean_absolute_error: 2.3331\n",
      "Epoch 88/100\n",
      "323/323 [==============================] - 2s 6ms/step - loss: 7.9574 - mean_absolute_error: 1.9598 - val_loss: 10.7573 - val_mean_absolute_error: 2.2928\n",
      "Epoch 89/100\n",
      "323/323 [==============================] - 2s 6ms/step - loss: 8.0603 - mean_absolute_error: 1.9413 - val_loss: 11.0189 - val_mean_absolute_error: 2.4362\n",
      "Epoch 90/100\n",
      "323/323 [==============================] - 2s 6ms/step - loss: 8.3593 - mean_absolute_error: 1.9841 - val_loss: 11.6133 - val_mean_absolute_error: 2.6776\n",
      "Epoch 91/100\n",
      "323/323 [==============================] - 2s 6ms/step - loss: 7.4622 - mean_absolute_error: 1.9062 - val_loss: 13.3638 - val_mean_absolute_error: 2.9353\n",
      "Epoch 92/100\n",
      "323/323 [==============================] - 2s 5ms/step - loss: 8.3878 - mean_absolute_error: 1.9623 - val_loss: 10.5998 - val_mean_absolute_error: 2.3966\n",
      "Epoch 93/100\n",
      "323/323 [==============================] - 2s 6ms/step - loss: 7.9902 - mean_absolute_error: 1.9916 - val_loss: 10.5828 - val_mean_absolute_error: 2.3830\n",
      "Epoch 94/100\n",
      "323/323 [==============================] - 2s 5ms/step - loss: 7.4633 - mean_absolute_error: 1.9193 - val_loss: 11.9342 - val_mean_absolute_error: 2.4649\n",
      "Epoch 95/100\n",
      "323/323 [==============================] - 2s 5ms/step - loss: 7.7809 - mean_absolute_error: 1.9499 - val_loss: 10.9185 - val_mean_absolute_error: 2.3795\n",
      "Epoch 96/100\n",
      "323/323 [==============================] - 2s 5ms/step - loss: 7.7686 - mean_absolute_error: 1.9066 - val_loss: 10.9486 - val_mean_absolute_error: 2.4820\n",
      "Epoch 97/100\n"
     ]
    },
    {
     "name": "stdout",
     "output_type": "stream",
     "text": [
      "323/323 [==============================] - 2s 6ms/step - loss: 7.9068 - mean_absolute_error: 1.9543 - val_loss: 10.9343 - val_mean_absolute_error: 2.3794\n",
      "Epoch 98/100\n",
      "323/323 [==============================] - 2s 5ms/step - loss: 7.8091 - mean_absolute_error: 1.8938 - val_loss: 11.0834 - val_mean_absolute_error: 2.5664\n",
      "Epoch 99/100\n",
      "323/323 [==============================] - 2s 5ms/step - loss: 7.4432 - mean_absolute_error: 1.9225 - val_loss: 12.1315 - val_mean_absolute_error: 2.7197\n",
      "Epoch 100/100\n",
      "323/323 [==============================] - 2s 5ms/step - loss: 7.8758 - mean_absolute_error: 1.9565 - val_loss: 10.9283 - val_mean_absolute_error: 2.3600\n",
      "102/102 [==============================] - 0s 78us/step\n"
     ]
    },
    {
     "data": {
      "text/plain": [
       "[20.582036485858993, 2.7323176253075694]"
      ]
     },
     "execution_count": 43,
     "metadata": {},
     "output_type": "execute_result"
    }
   ],
   "source": [
    "history = model.fit(train_data, train_targets ,epochs = 100, batch_size=1, validation_split=0.2)\n",
    "model.evaluate(test_data, test_targets)"
   ]
  },
  {
   "cell_type": "code",
   "execution_count": 44,
   "metadata": {},
   "outputs": [
    {
     "data": {
      "text/plain": [
       "['loss', 'mean_absolute_error']"
      ]
     },
     "execution_count": 44,
     "metadata": {},
     "output_type": "execute_result"
    }
   ],
   "source": [
    "model.metrics_names"
   ]
  },
  {
   "cell_type": "code",
   "execution_count": 45,
   "metadata": {},
   "outputs": [
    {
     "data": {
      "text/plain": [
       "dict_keys(['val_loss', 'val_mean_absolute_error', 'loss', 'mean_absolute_error'])"
      ]
     },
     "execution_count": 45,
     "metadata": {},
     "output_type": "execute_result"
    }
   ],
   "source": [
    "history.history.keys()"
   ]
  },
  {
   "cell_type": "markdown",
   "metadata": {},
   "source": [
    "# 시각화"
   ]
  },
  {
   "cell_type": "code",
   "execution_count": 46,
   "metadata": {},
   "outputs": [],
   "source": [
    "import matplotlib.pyplot as plt"
   ]
  },
  {
   "cell_type": "code",
   "execution_count": 47,
   "metadata": {},
   "outputs": [
    {
     "data": {
      "image/png": "[encoded data removed]",
      "text/plain": [
       "<Figure size 432x288 with 1 Axes>"
      ]
     },
     "metadata": {},
     "output_type": "display_data"
    }
   ],
   "source": [
    "mae = history.history['mean_absolute_error']\n",
    "val_mae = history.history['val_mean_absolute_error']\n",
    "loss = history.history['loss']\n",
    "val_loss = history.history['val_loss']\n",
    "\n",
    "epochs = range(1, len(mae) + 1)\n",
    "\n",
    "plt.plot(epochs, loss, 'b', label='Training loss')\n",
    "plt.plot(epochs, val_loss, 'b--', label='Validation loss')\n",
    "plt.title('Training and validation loss')\n",
    "plt.xlabel('Epochs')\n",
    "plt.ylabel('Loss')\n",
    "plt.legend()\n",
    "\n",
    "plt.show()"
   ]
  },
  {
   "cell_type": "code",
   "execution_count": 48,
   "metadata": {},
   "outputs": [
    {
     "data": {
      "image/png": "[encoded data removed]",
      "text/plain": [
       "<Figure size 432x288 with 1 Axes>"
      ]
     },
     "metadata": {},
     "output_type": "display_data"
    }
   ],
   "source": [
    "plt.plot(epochs, mae, 'b', label='Training mae')\n",
    "plt.plot(epochs, val_mae, 'b--', label='Validation mae')\n",
    "plt.title('Training and validation mae')\n",
    "plt.xlabel('Epochs')\n",
    "plt.ylabel('Loss')\n",
    "plt.legend()\n",
    "\n",
    "plt.show()"
   ]
  },
  {
   "cell_type": "code",
   "execution_count": 49,
   "metadata": {},
   "outputs": [],
   "source": [
    "def smooth_curve(points, factor = 0.9):\n",
    "    smoothed_points = []\n",
    "    for point in points:\n",
    "        if smoothed_points:\n",
    "            previous = smoothed_points[-1]\n",
    "            smoothed_points.append(previous * factor + point * (1 - factor))\n",
    "        else:\n",
    "            smoothed_points.append(point)\n",
    "    return smoothed_points "
   ]
  },
  {
   "cell_type": "code",
   "execution_count": 50,
   "metadata": {},
   "outputs": [
    {
     "data": {
      "image/png": "[encoded data removed]",
      "text/plain": [
       "<Figure size 432x288 with 1 Axes>"
      ]
     },
     "metadata": {},
     "output_type": "display_data"
    }
   ],
   "source": [
    "smooth_loss = smooth_curve(loss)\n",
    "smooth_val_loss = smooth_curve(val_loss)\n",
    "\n",
    "plt.plot(range(1,len(smooth_mae_history)+1), smooth_loss, label='loss')\n",
    "plt.plot(range(1,len(smooth_mae_history)+1), smooth_val_loss,label='val_loss')\n",
    "plt.xlabel('Epoch')\n",
    "plt.ylabel('Loss')\n",
    "plt.legend()\n",
    "plt.show()"
   ]
  },
  {
   "cell_type": "code",
   "execution_count": 51,
   "metadata": {},
   "outputs": [
    {
     "data": {
      "image/png": "[encoded data removed]",
      "text/plain": [
       "<Figure size 432x288 with 1 Axes>"
      ]
     },
     "metadata": {},
     "output_type": "display_data"
    }
   ],
   "source": [
    "smooth_mae = smooth_curve(mae)\n",
    "smooth_val_mae = smooth_curve(val_mae)\n",
    "\n",
    "plt.plot(range(1,len(smooth_mae_history)+1), smooth_mae, label='mae')\n",
    "plt.plot(range(1,len(smooth_mae_history)+1), smooth_val_mae,label='val mae')\n",
    "plt.xlabel('Epoch')\n",
    "plt.ylabel('mae')\n",
    "plt.legend()\n",
    "plt.show()"
   ]
  },
  {
   "cell_type": "code",
   "execution_count": null,
   "metadata": {},
   "outputs": [],
   "source": []
  }
 ],
 "metadata": {
  "kernelspec": {
   "display_name": "Python 3",
   "language": "python",
   "name": "python3"
  },
  "language_info": {
   "codemirror_mode": {
    "name": "ipython",
    "version": 3
   },
   "file_extension": ".py",
   "mimetype": "text/x-python",
   "name": "python",
   "nbconvert_exporter": "python",
   "pygments_lexer": "ipython3",
   "version": "3.6.5"
  }
 },
 "nbformat": 4,
 "nbformat_minor": 2
}
