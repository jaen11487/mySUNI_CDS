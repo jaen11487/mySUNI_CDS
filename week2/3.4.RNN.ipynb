{
 "cells": [
  {
   "cell_type": "markdown",
   "metadata": {},
   "source": [
    "# Recurrent Neural Network, 순환 신경망\n"
   ]
  },
  {
   "cell_type": "markdown",
   "metadata": {},
   "source": [
    "### RNN 실습, 다음 수 예측( Many to One)\n",
    "* RNN 구조를 직접 구현해서 다음 숫자 예측하는 실습    "
   ]
  },
  {
   "cell_type": "markdown",
   "metadata": {},
   "source": [
    "#### 입출력 데이타 준비"
   ]
  },
  {
   "cell_type": "code",
   "execution_count": 1,
   "metadata": {},
   "outputs": [
    {
     "data": {
      "text/plain": [
       "'x'"
      ]
     },
     "metadata": {},
     "output_type": "display_data"
    },
    {
     "data": {
      "text/plain": [
       "[[[0.0], [0.1], [0.2], [0.3]],\n",
       " [[0.1], [0.2], [0.3], [0.4]],\n",
       " [[0.2], [0.3], [0.4], [0.5]],\n",
       " [[0.3], [0.4], [0.5], [0.6]],\n",
       " [[0.4], [0.5], [0.6], [0.7]]]"
      ]
     },
     "metadata": {},
     "output_type": "display_data"
    },
    {
     "data": {
      "text/plain": [
       "'y'"
      ]
     },
     "metadata": {},
     "output_type": "display_data"
    },
    {
     "data": {
      "text/plain": [
       "[[0.4], [0.5], [0.6], [0.7], [0.8]]"
      ]
     },
     "metadata": {},
     "output_type": "display_data"
    }
   ],
   "source": [
    "import tensorflow as tf\n",
    "import numpy as np\n",
    "\n",
    "step_size = 4\n",
    "batch_size = 5\n",
    "\n",
    "x = [ [[i/10] for i in range(j, j+step_size)] for j in range(batch_size)]\n",
    "y = [[ (i+step_size) /10] for i in range(batch_size)]\n",
    "display(\"x\", x, \"y\",y)"
   ]
  },
  {
   "cell_type": "markdown",
   "metadata": {},
   "source": [
    "#### TF Keras Model을 이용한 다음 수 예측 실습"
   ]
  },
  {
   "cell_type": "code",
   "execution_count": 3,
   "metadata": {},
   "outputs": [
    {
     "name": "stdout",
     "output_type": "stream",
     "text": [
      "Model: \"sequential\"\n",
      "_________________________________________________________________\n",
      "Layer (type)                 Output Shape              Param #   \n",
      "=================================================================\n",
      "simple_rnn (SimpleRNN)       (None, 10)                120       \n",
      "_________________________________________________________________\n",
      "dense (Dense)                (None, 1)                 11        \n",
      "=================================================================\n",
      "Total params: 131\n",
      "Trainable params: 131\n",
      "Non-trainable params: 0\n",
      "_________________________________________________________________\n",
      "prediction: [0.39952955 0.49973935 0.60083854 0.701282   0.7985467 ]\n"
     ]
    }
   ],
   "source": [
    "element_size = 1\n",
    "model = tf.keras.Sequential([\n",
    "    tf.keras.layers.SimpleRNN(10, input_shape=[step_size, element_size]),\n",
    "    tf.keras.layers.Dense(element_size)\n",
    "])\n",
    "model.summary()\n",
    "model.compile(optimizer='adam', loss='mse')\n",
    "\n",
    "model.fit(x, y, epochs=1000, verbose=0)\n",
    "pred = model.predict(x)\n",
    "print(f'prediction: {tf.squeeze(pred)}')"
   ]
  },
  {
   "cell_type": "markdown",
   "metadata": {},
   "source": [
    "### Vanila RNN 실습2, Many to Many\n"
   ]
  },
  {
   "cell_type": "markdown",
   "metadata": {},
   "source": [
    "#### 입출력 데이타 준비"
   ]
  },
  {
   "cell_type": "code",
   "execution_count": 83,
   "metadata": {
    "scrolled": true
   },
   "outputs": [
    {
     "data": {
      "text/plain": [
       "'x'"
      ]
     },
     "metadata": {},
     "output_type": "display_data"
    },
    {
     "data": {
      "text/plain": [
       "[[[0.0], [0.1], [0.2], [0.3]],\n",
       " [[0.1], [0.2], [0.3], [0.4]],\n",
       " [[0.2], [0.3], [0.4], [0.5]],\n",
       " [[0.3], [0.4], [0.5], [0.6]],\n",
       " [[0.4], [0.5], [0.6], [0.7]]]"
      ]
     },
     "metadata": {},
     "output_type": "display_data"
    },
    {
     "data": {
      "text/plain": [
       "'y'"
      ]
     },
     "metadata": {},
     "output_type": "display_data"
    },
    {
     "data": {
      "text/plain": [
       "[[[0.1], [0.2], [0.3], [0.4]],\n",
       " [[0.2], [0.3], [0.4], [0.5]],\n",
       " [[0.3], [0.4], [0.5], [0.6]],\n",
       " [[0.4], [0.5], [0.6], [0.7]],\n",
       " [[0.5], [0.6], [0.7], [0.8]]]"
      ]
     },
     "metadata": {},
     "output_type": "display_data"
    }
   ],
   "source": [
    "import tensorflow as tf\n",
    "import numpy as np\n",
    "\n",
    "step_size = 4\n",
    "batch_size = 5\n",
    "\n",
    "x = [ [[i/10] for i in range(j, j+step_size)] for j in range(batch_size)]\n",
    "y = [ [[i/10] for i in range(j+1, j+step_size+1)] for j in range(batch_size)]\n",
    "display(\"x\", x, \"y\",y)"
   ]
  },
  {
   "cell_type": "markdown",
   "metadata": {},
   "source": [
    "#### TF Keras를 이용한 실습"
   ]
  },
  {
   "cell_type": "code",
   "execution_count": 86,
   "metadata": {},
   "outputs": [
    {
     "name": "stdout",
     "output_type": "stream",
     "text": [
      "Model: \"sequential_8\"\n",
      "_________________________________________________________________\n",
      "Layer (type)                 Output Shape              Param #   \n",
      "=================================================================\n",
      "simple_rnn_20 (SimpleRNN)    (None, 4, 10)             120       \n",
      "_________________________________________________________________\n",
      "dense_7 (Dense)              (None, 4, 1)              11        \n",
      "=================================================================\n",
      "Total params: 131\n",
      "Trainable params: 131\n",
      "Non-trainable params: 0\n",
      "_________________________________________________________________\n",
      "prediction: [[0.2834577  0.21673763 0.27802214 0.38358343]\n",
      " [0.2944024  0.31542468 0.39945063 0.5002965 ]\n",
      " [0.30445662 0.4112241  0.51065373 0.60875326]\n",
      " [0.3132205  0.5031215  0.60719633 0.7082859 ]\n",
      " [0.32035115 0.5903807  0.68736416 0.7984788 ]]\n"
     ]
    }
   ],
   "source": [
    "model = tf.keras.Sequential([\n",
    "    tf.keras.layers.SimpleRNN(10, input_shape=[step_size, element_size], return_sequences=True),\n",
    "    tf.keras.layers.Dense(element_size)\n",
    "])\n",
    "model.summary()\n",
    "model.compile(optimizer='adam', loss='mse')\n",
    "\n",
    "model.fit(x, y, epochs=1000, verbose=0)\n",
    "pred = model.predict(x)\n",
    "print(f'prediction: {tf.squeeze(pred)}')"
   ]
  },
  {
   "cell_type": "markdown",
   "metadata": {},
   "source": [
    "### Text 데이타 실습, One-hot Encoding\n"
   ]
  },
  {
   "cell_type": "markdown",
   "metadata": {},
   "source": [
    "#### 입출력 데이타 준비"
   ]
  },
  {
   "cell_type": "code",
   "execution_count": 96,
   "metadata": {
    "scrolled": true
   },
   "outputs": [
    {
     "name": "stdout",
     "output_type": "stream",
     "text": [
      "sentence:hihello\n",
      "char2idx:{'e': 0, 'l': 1, 'i': 2, 'o': 3, 'h': 4}, idx2char:{0: 'e', 1: 'l', 2: 'i', 3: 'o', 4: 'h'}\n",
      "x:hihell, y:ihello\n",
      "x_idx:[4, 2, 4, 0, 1, 1], y_idx:[2, 4, 0, 1, 1, 3]\n",
      "x_enc: [[[0. 0. 0. 0. 1.]\n",
      "  [0. 0. 1. 0. 0.]\n",
      "  [0. 0. 0. 0. 1.]\n",
      "  [1. 0. 0. 0. 0.]\n",
      "  [0. 1. 0. 0. 0.]\n",
      "  [0. 1. 0. 0. 0.]]] (1, 6, 5)\n",
      "y_enc: [[[0. 0. 1. 0. 0.]\n",
      "  [0. 0. 0. 0. 1.]\n",
      "  [1. 0. 0. 0. 0.]\n",
      "  [0. 1. 0. 0. 0.]\n",
      "  [0. 1. 0. 0. 0.]\n",
      "  [0. 0. 0. 1. 0.]]] (1, 6, 5)\n"
     ]
    }
   ],
   "source": [
    "import tensorflow as tf\n",
    "import numpy as np\n",
    "\n",
    "sentence = \"hihello\"\n",
    "\n",
    "voca = set(sentence) #unique charters\n",
    "char2idx = {c:i for i,c in enumerate(voca)}\n",
    "idx2char = {i:c for i, c in enumerate(voca)}\n",
    "print(f'sentence:{sentence}')\n",
    "print(f'char2idx:{char2idx}, idx2char:{idx2char}')\n",
    "\n",
    "x = sentence[:-1] #\"hihell\"\n",
    "y = sentence[1:] #\"ihello\"\n",
    "print(f'x:{x}, y:{y}')\n",
    "\n",
    "n_class = len(voca)  #example size\n",
    "n_time_steps = len(x) #input sequence\n",
    "hidden_size = n_class #output size\n",
    "\n",
    "''' convert char to integer '''\n",
    "x_idx = [char2idx[c] for c in x]\n",
    "y_idx = [char2idx[c] for c in y]\n",
    "print(f\"x_idx:{x_idx}, y_idx:{y_idx}\")\n",
    "\n",
    "''' one-hot encoding'''\n",
    "x_enc =tf.keras.utils.to_categorical(x_idx, num_classes=n_class)\n",
    "x_enc = np.expand_dims(x_enc, axis=0)\n",
    "\n",
    "y_enc = tf.keras.utils.to_categorical(y_idx, num_classes=n_class)\n",
    "y_enc = np.expand_dims(y_enc, axis=0)\n",
    "print(\"x_enc:\", x_enc, x_enc.shape, )\n",
    "print(\"y_enc:\", y_enc, y_enc.shape)"
   ]
  },
  {
   "cell_type": "markdown",
   "metadata": {},
   "source": [
    "#### LSTM을 이용한 모델 학습"
   ]
  },
  {
   "cell_type": "code",
   "execution_count": 100,
   "metadata": {},
   "outputs": [
    {
     "name": "stdout",
     "output_type": "stream",
     "text": [
      "Model: \"sequential_17\"\n",
      "_________________________________________________________________\n",
      "Layer (type)                 Output Shape              Param #   \n",
      "=================================================================\n",
      "lstm_4 (LSTM)                (None, 6, 5)              220       \n",
      "_________________________________________________________________\n",
      "dense_15 (Dense)             (None, 6, 5)              30        \n",
      "_________________________________________________________________\n",
      "activation_9 (Activation)    (None, 6, 5)              0         \n",
      "=================================================================\n",
      "Total params: 250\n",
      "Trainable params: 250\n",
      "Non-trainable params: 0\n",
      "_________________________________________________________________\n",
      "[[[5.7636272e-02 3.2721840e-02 8.1942415e-01 6.9915815e-03 8.3226211e-02]\n",
      "  [1.7295246e-01 1.0505311e-02 6.7424826e-02 2.5534625e-03 7.4656397e-01]\n",
      "  [7.7144426e-01 4.3208193e-02 2.9042009e-02 1.2520365e-03 1.5505353e-01]\n",
      "  [4.9345892e-02 9.1402274e-01 9.5988065e-03 2.2867098e-02 4.1654333e-03]\n",
      "  [9.9146655e-03 9.0968257e-01 3.2896472e-03 7.6471224e-02 6.4188422e-04]\n",
      "  [1.2772365e-03 1.1706970e-01 3.4941558e-03 8.7378478e-01 4.3741260e-03]]] [2 4 0 1 1 3]\n",
      "['i', 'h', 'e', 'l', 'l', 'o']\n"
     ]
    }
   ],
   "source": [
    "model = tf.keras.Sequential()\n",
    "model.add(tf.keras.layers.LSTM(hidden_size, input_shape=(n_time_steps, n_class), return_sequences=True))\n",
    "model.add(tf.keras.layers.Dense(hidden_size))\n",
    "model.add(tf.keras.layers.Activation('softmax'))\n",
    "model.summary()\n",
    "\n",
    "model.compile(optimizer='adam', loss='sparse_categorical_crossentropy')\n",
    "\n",
    "n_epochs = 1000\n",
    "history = model.fit(x_enc, np.reshape(y_idx, (1,6,1)), epochs=n_epochs, verbose=0)\n",
    "\n",
    "preds = model.predict(x_enc)\n",
    "print(preds, np.squeeze(np.argmax(preds, axis=2)))\n",
    "print([idx2char[i] for i in np.squeeze(np.argmax(preds, axis=2))])"
   ]
  },
  {
   "cell_type": "markdown",
   "metadata": {},
   "source": [
    "### Keras Embedding Layer 실습\n",
    "* 긍정/부정 어휘 분류"
   ]
  },
  {
   "cell_type": "code",
   "execution_count": 342,
   "metadata": {},
   "outputs": [
    {
     "name": "stdout",
     "output_type": "stream",
     "text": [
      "vocab_size : 15\n",
      "integer encoded: [[2, 3, 1, 4], [5, 6], [7, 8], [9, 10], [11, 12], [13], [14, 1]]\n",
      "max_len: 4\n",
      "padded : [[ 2  3  1  4]\n",
      " [ 5  6  0  0]\n",
      " [ 7  8  0  0]\n",
      " [ 9 10  0  0]\n",
      " [11 12  0  0]\n",
      " [13  0  0  0]\n",
      " [14  1  0  0]]\n",
      "embedding init : [[[-0.03830038 -0.00979317]\n",
      "  [ 0.04742971  0.03679741]\n",
      "  [-0.02656862 -0.04510809]\n",
      "  [-0.03885192 -0.032944  ]]\n",
      "\n",
      " [[-0.00261912  0.04927878]\n",
      "  [ 0.03732674 -0.04802374]\n",
      "  [ 0.03983864  0.02522461]\n",
      "  [ 0.03983864  0.02522461]]\n",
      "\n",
      " [[-0.02871524 -0.04586512]\n",
      "  [-0.00109534 -0.03157889]\n",
      "  [ 0.03983864  0.02522461]\n",
      "  [ 0.03983864  0.02522461]]]\n",
      "Model: \"sequential_52\"\n",
      "_________________________________________________________________\n",
      "Layer (type)                 Output Shape              Param #   \n",
      "=================================================================\n",
      "embedding_22 (Embedding)     (None, 4, 2)              30        \n",
      "_________________________________________________________________\n",
      "flatten_16 (Flatten)         (None, 8)                 0         \n",
      "_________________________________________________________________\n",
      "dense_63 (Dense)             (None, 1)                 9         \n",
      "=================================================================\n",
      "Total params: 39\n",
      "Trainable params: 39\n",
      "Non-trainable params: 0\n",
      "_________________________________________________________________\n",
      "embedding last : [[[-0.44584236  0.38378528]\n",
      "  [-0.4085907  -0.3049673 ]\n",
      "  [-0.6060485  -0.47585234]\n",
      "  [-0.37545377  0.3680631 ]]\n",
      "\n",
      " [[ 0.49695083 -0.43553331]\n",
      "  [ 0.5856042   0.37878647]\n",
      "  [ 0.46805128  0.45514685]\n",
      "  [ 0.46805128  0.45514685]]\n",
      "\n",
      " [[ 0.46793577 -0.5277508 ]\n",
      "  [ 0.5443586   0.39237097]\n",
      "  [ 0.46805128  0.45514685]\n",
      "  [ 0.46805128  0.45514685]]]\n"
     ]
    }
   ],
   "source": [
    "import tensorflow as tf\n",
    "\n",
    "corpus = ['very good nice quality', \n",
    "             'stop lies',\n",
    "             'ugly terrible', \n",
    "             'excellent work', \n",
    "             'adorable lovely', \n",
    "             'bad',\n",
    "             'greate nice']\n",
    "\n",
    "y_train = [1, 0, 0, 1, 1, 0, 1] #1 :pos, 0 : neg\n",
    "\n",
    "t = tf.keras.preprocessing.text.Tokenizer()\n",
    "t.fit_on_texts(corpus)\n",
    "vocab_size = len(t.word_index) + 1\n",
    "\n",
    "print(f'vocab_size : {vocab_size}')\n",
    "\n",
    "X_encoded = t.texts_to_sequences(corpus)\n",
    "print(f'integer encoded: {X_encoded}')\n",
    "\n",
    "max_len=max(len(l) for l in X_encoded)\n",
    "print(f'max_len: {max_len}')\n",
    "\n",
    "X_train = tf.keras.preprocessing.sequence.pad_sequences(X_encoded, maxlen=max_len, padding='post')\n",
    "y_train=np.array(y_train)\n",
    "print(f'padded : {X_train}')\n",
    "\n",
    "embd = tf.keras.layers.Embedding(vocab_size, 2, input_length=max_len)\n",
    "print(f'embedding init : {embd(X_train)[:3]}')\n",
    "\n",
    "model = tf.keras.Sequential()\n",
    "model.add(embd) \n",
    "model.add(tf.keras.layers.Flatten()) # Dense의 입력으로 넣기위함.\n",
    "model.add(tf.keras.layers.Dense(1, activation='sigmoid'))\n",
    "model.summary()\n",
    "\n",
    "model.compile(optimizer='adam', loss='binary_crossentropy', metrics=['acc'])\n",
    "model.fit(X_train, y_train, epochs=500, verbose=0)\n",
    "\n",
    "print(f'embedding last : {embd(X_train)[:3]}')"
   ]
  },
  {
   "cell_type": "markdown",
   "metadata": {},
   "source": [
    "#### 벡터 시각화"
   ]
  },
  {
   "cell_type": "code",
   "execution_count": 343,
   "metadata": {},
   "outputs": [
    {
     "name": "stdout",
     "output_type": "stream",
     "text": [
      "[[ 0.46805128  0.45514685]\n",
      " [-0.6060485  -0.47585234]\n",
      " [-0.44584236  0.38378528]\n",
      " [-0.4085907  -0.3049673 ]\n",
      " [-0.37545377  0.3680631 ]\n",
      " [ 0.49695083 -0.43553331]\n",
      " [ 0.5856042   0.37878647]\n",
      " [ 0.46793577 -0.5277508 ]\n",
      " [ 0.5443586   0.39237097]\n",
      " [-0.55632174  0.4738349 ]\n",
      " [-0.5174578  -0.45235133]\n",
      " [-0.5468264   0.5264467 ]\n",
      " [-0.5186092  -0.47502556]\n",
      " [ 0.46115583 -0.51825726]\n",
      " [-0.4813648   0.47686896]]\n"
     ]
    },
    {
     "data": {
      "image/png": "[encoded data removed]",
      "text/plain": [
       "<Figure size 720x720 with 1 Axes>"
      ]
     },
     "metadata": {
      "needs_background": "light"
     },
     "output_type": "display_data"
    }
   ],
   "source": [
    "import matplotlib.pyplot as plt\n",
    "\n",
    "embd_matrix = embd.get_weights()[0]\n",
    "print(embd_matrix)\n",
    "plt.figure(figsize=(10,10))  \n",
    "for idx, (x1, x2) in enumerate(embd_matrix):\n",
    "    if idx == 0 : continue\n",
    "    plt.plot(x1, x2, 'b.')\n",
    "    plt.annotate(t.index_word[idx], (x1,x2 ))"
   ]
  },
  {
   "cell_type": "markdown",
   "metadata": {},
   "source": [
    "### Embeding Layer를 이용한 IMDB 텍스트 분류 실습\n"
   ]
  },
  {
   "cell_type": "markdown",
   "metadata": {},
   "source": [
    "#### 데이타 준비"
   ]
  },
  {
   "cell_type": "code",
   "execution_count": 1,
   "metadata": {},
   "outputs": [
    {
     "name": "stdout",
     "output_type": "stream",
     "text": [
      "train set : 25000, test set: (25000,), classes : 2\n"
     ]
    }
   ],
   "source": [
    "import tensorflow as tf\n",
    "\n",
    "imdb = tf.keras.datasets.imdb\n",
    "\n",
    "voca_size = 10000\n",
    "(X_train, y_train), (X_test, y_test) = imdb.load_data(num_words=voca_size)\n",
    "print(f'train set : {len(X_train)}, test set: {len(X_test), }, classes : {max(y_train)+1}')"
   ]
  },
  {
   "cell_type": "markdown",
   "metadata": {},
   "source": [
    "#### 단어-인덱스 사전 생성"
   ]
  },
  {
   "cell_type": "code",
   "execution_count": 2,
   "metadata": {},
   "outputs": [
    {
     "name": "stdout",
     "output_type": "stream",
     "text": [
      "the 1\n"
     ]
    }
   ],
   "source": [
    "imdb_word_index = imdb.get_word_index()\n",
    "imdb_index_word = { idx : key for key, idx in imdb_word_index.items()}\n",
    "\n",
    "print(imdb_index_word[1], imdb_word_index['the'])"
   ]
  },
  {
   "cell_type": "markdown",
   "metadata": {},
   "source": [
    "#### 데이타 미리보기"
   ]
  },
  {
   "cell_type": "code",
   "execution_count": 9,
   "metadata": {
    "scrolled": true
   },
   "outputs": [
    {
     "name": "stdout",
     "output_type": "stream",
     "text": [
      "[1, 14, 22, 16, 43, 530, 973, 1622, 1385, 65, 458, 4468, 66, 3941, 4, 173, 36, 256, 5, 25]\n"
     ]
    },
    {
     "data": {
      "text/plain": [
       "\"? this film was just brilliant casting location scenery story direction everyone's really suited the part they played and you\""
      ]
     },
     "execution_count": 9,
     "metadata": {},
     "output_type": "execute_result"
    }
   ],
   "source": [
    "print(X_train[0][:20])\n",
    "\n",
    "# 0:pad, 1:<start>, 2:UNK \n",
    "' '.join([imdb_index_word.get(i-3, '?') for i in X_train[0][:20]])"
   ]
  },
  {
   "cell_type": "markdown",
   "metadata": {},
   "source": [
    "#### 패딩"
   ]
  },
  {
   "cell_type": "code",
   "execution_count": 10,
   "metadata": {},
   "outputs": [],
   "source": [
    "#padding\n",
    "max_len = 500\n",
    "X_train = tf.keras.preprocessing.sequence.pad_sequences(X_train, maxlen=max_len)\n",
    "X_test = tf.keras.preprocessing.sequence.pad_sequences(X_test, maxlen=max_len)"
   ]
  },
  {
   "cell_type": "markdown",
   "metadata": {},
   "source": [
    "#### 모델 생성, 훈련, 평가"
   ]
  },
  {
   "cell_type": "code",
   "execution_count": 11,
   "metadata": {
    "scrolled": true
   },
   "outputs": [
    {
     "name": "stdout",
     "output_type": "stream",
     "text": [
      "Train on 25000 samples, validate on 25000 samples\n",
      "Epoch 1/20\n",
      "25000/25000 [==============================] - 39s 2ms/sample - loss: 0.4619 - acc: 0.7776 - val_loss: 0.4323 - val_acc: 0.7946\n",
      "Epoch 2/20\n",
      "25000/25000 [==============================] - 38s 2ms/sample - loss: 0.2810 - acc: 0.8888 - val_loss: 0.3118 - val_acc: 0.8688\n",
      "Epoch 3/20\n",
      "25000/25000 [==============================] - 39s 2ms/sample - loss: 0.1878 - acc: 0.9290 - val_loss: 0.3479 - val_acc: 0.8660\n",
      "Epoch 4/20\n",
      "25000/25000 [==============================] - 39s 2ms/sample - loss: 0.1432 - acc: 0.9474 - val_loss: 0.4493 - val_acc: 0.8605\n",
      "Epoch 5/20\n",
      "25000/25000 [==============================] - 40s 2ms/sample - loss: 0.1142 - acc: 0.9581 - val_loss: 0.3961 - val_acc: 0.8683\n",
      "Epoch 6/20\n",
      "25000/25000 [==============================] - 41s 2ms/sample - loss: 0.1072 - acc: 0.9613 - val_loss: 0.4287 - val_acc: 0.8546\n",
      "Epoch 7/20\n",
      "25000/25000 [==============================] - 41s 2ms/sample - loss: 0.0674 - acc: 0.9771 - val_loss: 0.5091 - val_acc: 0.8592\n",
      "Epoch 8/20\n",
      "25000/25000 [==============================] - 41s 2ms/sample - loss: 0.0729 - acc: 0.9743 - val_loss: 0.6038 - val_acc: 0.8542\n",
      "Epoch 9/20\n",
      "25000/25000 [==============================] - 41s 2ms/sample - loss: 0.0535 - acc: 0.9834 - val_loss: 0.6148 - val_acc: 0.8618\n",
      "Epoch 10/20\n",
      "25000/25000 [==============================] - 41s 2ms/sample - loss: 0.0229 - acc: 0.9934 - val_loss: 0.6441 - val_acc: 0.8500\n",
      "Epoch 11/20\n",
      "25000/25000 [==============================] - 41s 2ms/sample - loss: 0.0349 - acc: 0.9890 - val_loss: 0.7416 - val_acc: 0.8505\n",
      "Epoch 12/20\n",
      "25000/25000 [==============================] - 41s 2ms/sample - loss: 0.0771 - acc: 0.9721 - val_loss: 0.5193 - val_acc: 0.8438\n",
      "Epoch 13/20\n",
      "25000/25000 [==============================] - 41s 2ms/sample - loss: 0.0355 - acc: 0.9886 - val_loss: 0.6693 - val_acc: 0.8578\n",
      "Epoch 14/20\n",
      "25000/25000 [==============================] - 41s 2ms/sample - loss: 0.0149 - acc: 0.9958 - val_loss: 0.7321 - val_acc: 0.8420\n",
      "Epoch 15/20\n",
      "25000/25000 [==============================] - 41s 2ms/sample - loss: 0.0184 - acc: 0.9948 - val_loss: 0.7456 - val_acc: 0.8463\n",
      "Epoch 16/20\n",
      "25000/25000 [==============================] - 41s 2ms/sample - loss: 0.0192 - acc: 0.9942 - val_loss: 0.7804 - val_acc: 0.8572\n",
      "Epoch 17/20\n",
      "25000/25000 [==============================] - 41s 2ms/sample - loss: 0.0114 - acc: 0.9969 - val_loss: 0.8823 - val_acc: 0.8576\n",
      "Epoch 18/20\n",
      "25000/25000 [==============================] - 41s 2ms/sample - loss: 0.0189 - acc: 0.9942 - val_loss: 0.7780 - val_acc: 0.8560\n",
      "Epoch 19/20\n",
      "25000/25000 [==============================] - 42s 2ms/sample - loss: 0.0346 - acc: 0.9892 - val_loss: 0.6767 - val_acc: 0.8521\n",
      "Epoch 20/20\n",
      "25000/25000 [==============================] - 41s 2ms/sample - loss: 0.0209 - acc: 0.9940 - val_loss: 0.7822 - val_acc: 0.8454\n",
      "25000/25000 [==============================] - 12s 496us/sample - loss: 0.7822 - acc: 0.8454\n",
      "cost :0.7821888622862101, accuracy:84.53599810600281%\n"
     ]
    }
   ],
   "source": [
    "model = tf.keras.Sequential()\n",
    "model.add(tf.keras.layers.Embedding(voca_size, 250))\n",
    "model.add(tf.keras.layers.LSTM(120))\n",
    "model.add(tf.keras.layers.Dense(32, activation='relu'))\n",
    "model.add(tf.keras.layers.Dense(1, activation='sigmoid'))\n",
    "\n",
    "model.compile(loss='binary_crossentropy', optimizer='adam', metrics=['acc'])\n",
    "model.fit(X_train, y_train, validation_data=(X_test, y_test), epochs=20, batch_size=64)\n",
    "\n",
    "result = model.evaluate(X_test, y_test)\n",
    "print(f'cost :{result[0]}, accuracy:{result[1] * 100:.2f}%')"
   ]
  }
 ],
 "metadata": {
  "kernelspec": {
   "display_name": "Python 3",
   "language": "python",
   "name": "python3"
  },
  "language_info": {
   "codemirror_mode": {
    "name": "ipython",
    "version": 3
   },
   "file_extension": ".py",
   "mimetype": "text/x-python",
   "name": "python",
   "nbconvert_exporter": "python",
   "pygments_lexer": "ipython3",
   "version": "3.7.6"
  }
 },
 "nbformat": 4,
 "nbformat_minor": 2
}
