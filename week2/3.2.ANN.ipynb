{
 "cells": [
  {
   "cell_type": "markdown",
   "metadata": {},
   "source": [
    "# DNN"
   ]
  },
  {
   "cell_type": "markdown",
   "metadata": {},
   "source": [
    "### 상수 값으로 풀어보는 XOR  예제\n",
    "\n",
    "![xor_nn_1](https://user-images.githubusercontent.com/661959/54298177-9e82f080-45fb-11e9-8bdd-1f86718c6f5d.png)\n",
    "\n",
    "\n"
   ]
  },
  {
   "cell_type": "code",
   "execution_count": 1,
   "metadata": {},
   "outputs": [
    {
     "name": "stdout",
     "output_type": "stream",
     "text": [
      "\n",
      "Hypothesis:\n",
      "[[0.01118422]\n",
      " [0.99493575]\n",
      " [0.99493575]\n",
      " [0.02438853]] \n",
      "Predicted:\n",
      "[[0.]\n",
      " [1.]\n",
      " [1.]\n",
      " [0.]] \n",
      "Accuracy:\n",
      "1.0\n"
     ]
    }
   ],
   "source": [
    "import tensorflow as tf\n",
    "import numpy as np\n",
    "\n",
    "X = np.array([[0, 0], [0, 1], [1, 0], [1, 1]], dtype=np.float32)\n",
    "Y = np.array([[0], [1], [1], [0]], dtype=np.float32)\n",
    "\n",
    "\n",
    "W1 = tf.Variable(np.array([[5,-7], [5,-7]], dtype=np.float32), name='weight1')\n",
    "b1 = tf.Variable(np.array([[-8, 3]], dtype=np.float32), name='bias1')\n",
    "L1 = tf.sigmoid(tf.matmul(X, W1) + b1)\n",
    "\n",
    "W2 = tf.Variable(np.array([[-11],[-11]], dtype=np.float32), name='weight2')\n",
    "b2 = tf.Variable(np.array([6], dtype=np.float32), name='bias2')\n",
    "hypothesis = tf.sigmoid(tf.matmul(L1, W2) + b2)\n",
    "\n",
    "\n",
    "predicted = tf.cast(hypothesis > 0.5, dtype=tf.float32)\n",
    "accuracy = tf.reduce_mean(tf.cast(tf.equal(predicted, Y), dtype=tf.float32))\n",
    "\n",
    "print(f\"\\nHypothesis:\\n{hypothesis} \\nPredicted:\\n{predicted} \\nAccuracy:\\n{accuracy}\")"
   ]
  },
  {
   "cell_type": "markdown",
   "metadata": {},
   "source": [
    "#### XOR 문제 MLP 학습 예제\n",
    "* 앞서 상수로 풀었던 XOR 문제를 MLP 학습으로 해결"
   ]
  },
  {
   "cell_type": "code",
   "execution_count": 2,
   "metadata": {},
   "outputs": [
    {
     "name": "stdout",
     "output_type": "stream",
     "text": [
      "step:0,\t cost:0.694770336151123\n",
      "step:500,\t cost:0.6866353750228882\n",
      "step:1000,\t cost:0.6217808723449707\n",
      "step:1500,\t cost:0.47173699736595154\n",
      "step:2000,\t cost:0.35258468985557556\n",
      "step:2500,\t cost:0.2675658166408539\n",
      "step:3000,\t cost:0.20677727460861206\n",
      "step:3500,\t cost:0.1624651551246643\n",
      "step:4000,\t cost:0.12943826615810394\n",
      "step:4500,\t cost:0.1043068990111351\n",
      "step:5000,\t cost:0.08483567833900452\n",
      "step:5500,\t cost:0.06951884180307388\n",
      "step:6000,\t cost:0.05731650069355965\n",
      "step:6500,\t cost:0.04749320447444916\n",
      "step:7000,\t cost:0.03951641544699669\n",
      "step:7500,\t cost:0.03299262374639511\n",
      "step:8000,\t cost:0.02762536332011223\n",
      "step:8500,\t cost:0.02318764105439186\n",
      "step:9000,\t cost:0.019503306597471237\n",
      "step:9500,\t cost:0.016433611512184143\n",
      "step:10000,\t cost:0.013868434354662895\n",
      "Hypothesis:[[0.01419488]\n",
      " [0.99258196]\n",
      " [0.97974145]\n",
      " [0.01317781]] \n",
      "Predicted:[[0.]\n",
      " [1.]\n",
      " [1.]\n",
      " [0.]] \n",
      "Accuracy:1.0\n",
      "w1:[[ 7.0601707  7.736848 ]\n",
      " [-6.882331  -8.0927305]], b1:[ 4.0750833 -3.9460294], w2:[[-10.040942]\n",
      " [  8.642284]], b2[5.4683695]\n"
     ]
    }
   ],
   "source": [
    "import tensorflow as tf\n",
    "import numpy as np\n",
    "tf.random.set_seed(777)\n",
    "\n",
    "X = np.array([[0, 0], [0, 1], [1, 0], [1, 1]], dtype=np.float32)\n",
    "y = np.array([[0], [1], [1], [0]], dtype=np.float32)\n",
    "\n",
    "W1 = tf.Variable(tf.random.normal([2, 2], seed=0))\n",
    "b1 = tf.Variable(tf.random.normal([2], seed=0))\n",
    "\n",
    "W2 = tf.Variable(tf.random.normal([2, 1], seed=0))\n",
    "b2 = tf.Variable(tf.random.normal([1], seed=0))\n",
    "\n",
    "learning_rate = 0.001\n",
    "opt = tf.keras.optimizers.Adam(learning_rate)\n",
    "for step in range(10001):\n",
    "    with tf.GradientTape() as tape:\n",
    "        layer1 = tf.sigmoid(tf.matmul(X, W1) + b1)\n",
    "        hypothesis = tf.sigmoid(tf.matmul(layer1, W2) + b2)\n",
    "        cost = tf.reduce_mean(tf.keras.losses.binary_crossentropy(y, hypothesis))\n",
    "        d_W1, d_b1, d_W2, d_b2 = tape.gradient(cost, [W1, b1, W2, b2] )\n",
    "        \n",
    "        opt.apply_gradients(zip([d_W1, d_b1, d_W2, d_b2], [W1, b1, W2, b2]))\n",
    "        if step % 500 == 0:\n",
    "            print(f\"step:{step},\\t cost:{cost}\")\n",
    "\n",
    "predicted = tf.cast(hypothesis > 0.5, dtype=tf.float32)\n",
    "accuracy = tf.reduce_mean(tf.cast(tf.equal(predicted, Y), dtype=tf.float32))\n",
    "\n",
    "print(f\"Hypothesis:{hypothesis} \\nPredicted:{predicted} \\nAccuracy:{accuracy}\")\n",
    "print(f\"w1:{W1.numpy()}, b1:{b1.numpy()}, w2:{W2.numpy()}, b2{b2.numpy()}\")\n"
   ]
  },
  {
   "cell_type": "markdown",
   "metadata": {},
   "source": [
    "###  MNIST 손글씨 인식 실습\n"
   ]
  },
  {
   "cell_type": "code",
   "execution_count": 130,
   "metadata": {},
   "outputs": [
    {
     "name": "stdout",
     "output_type": "stream",
     "text": [
      "<class 'tuple'> 2\n",
      "(60000, 28, 28) (10000,)\n",
      "(10000, 28, 28) (10000,)\n",
      "[5 0 4 1 9]\n"
     ]
    },
    {
     "data": {
      "image/png": "[encoded data removed]",
      "text/plain": [
       "<Figure size 432x288 with 5 Axes>"
      ]
     },
     "metadata": {
      "needs_background": "light"
     },
     "output_type": "display_data"
    }
   ],
   "source": [
    "%matplotlib inline\n",
    "\n",
    "import tensorflow as tf\n",
    "import matplotlib.pyplot as plt\n",
    "import numpy as np\n",
    "\n",
    "mnist = tf.keras.datasets.mnist.load_data()\n",
    "print(type(mnist), len(mnist))\n",
    "\n",
    "(X_train, y_train), (X_test, y_test) = mnist\n",
    "print(X_train.shape, y_test.shape)\n",
    "print(X_test.shape, y_test.shape)\n",
    "\n",
    "print(y_train[:5])\n",
    "for i in range(5):\n",
    "    plt.subplot(1,5,i+1)\n",
    "    plt.imshow(X_train[i], cmap=\"gray\")\n"
   ]
  },
  {
   "cell_type": "markdown",
   "metadata": {},
   "source": [
    "### Data preprocessing\n",
    "* 정규화(Normalization)\n",
    "    * 픽셀 데이타 : 0 ~ 255\n",
    "    * 정규화 데이타 : 0 ~ 1  \n",
    "* 2차원 이미지를 1차원으로 변경\n",
    "    * (28,28)\n",
    "    * (784)"
   ]
  },
  {
   "cell_type": "code",
   "execution_count": 154,
   "metadata": {},
   "outputs": [],
   "source": [
    "(X_train, y_train), (X_test, y_test) = tf.keras.datasets.mnist.load_data()\n",
    "#(X_train, y_train), (X_test, y_test) = tf.keras.datasets.fashion_mnist.load_data()\n",
    "\n",
    "(X_train, X_test) = (np.float32(X_train)/255, np.float32(X_test)/255)\n",
    "\n",
    "n_input = 28*28\n",
    "(X_train, X_test) = (X_train.reshape(-1, n_input), X_test.reshape(-1, n_input))\n"
   ]
  },
  {
   "cell_type": "markdown",
   "metadata": {},
   "source": [
    "### Validation Set\n"
   ]
  },
  {
   "cell_type": "code",
   "execution_count": 155,
   "metadata": {},
   "outputs": [],
   "source": [
    "X_valid, X_train = X_train[:5000], X_train[5000:]\n",
    "y_valid, y_train = y_train[:5000].astype(np.int64), y_train[5000:].astype(np.int64)"
   ]
  },
  {
   "cell_type": "markdown",
   "metadata": {},
   "source": [
    "### Neural Net 설계\n",
    "* 입력 : 28*28\n",
    "* layer1 : 300\n",
    "* layer2 : 100\n",
    "* 출력 : 10"
   ]
  },
  {
   "cell_type": "code",
   "execution_count": 160,
   "metadata": {},
   "outputs": [],
   "source": [
    "n_input = 28*28\n",
    "n_L1 = 300\n",
    "n_L2 = 100\n",
    "n_output = 10\n",
    "\n",
    "var_list = None\n",
    "\n",
    "def build_model():\n",
    "    global var_list\n",
    "    #initializer =  tf.initializers.GlorotUniform() #xavier\n",
    "    initializer =  tf.initializers.he_normal() #xavier\n",
    "\n",
    "    W1 = tf.Variable(initializer([n_input, n_L1]))\n",
    "    b1 = tf.Variable(tf.zeros([n_L1]))\n",
    "\n",
    "    W2 = tf.Variable(initializer([n_L1, n_L2]))\n",
    "    b2 = tf.Variable(tf.zeros([n_L2]))\n",
    "\n",
    "    W3 = tf.Variable(initializer([n_L2, n_output]))\n",
    "    b3 = tf.Variable(tf.zeros([n_output]))\n",
    "    var_list = [W1,b1, W2, b2, W3, b3]\n",
    "\n",
    "def fit(X):\n",
    "    global var_list\n",
    "    (W1, b1, W2, b2, W3, b3) = var_list\n",
    "    \n",
    "    L1 = tf.nn.relu(tf.matmul(X, W1) + b1)\n",
    "    L2 = tf.nn.relu(tf.matmul(L1, W2) + b2)\n",
    "    h = tf.nn.softmax(tf.matmul(L2, W3) + b3)\n",
    "    return h"
   ]
  },
  {
   "attachments": {},
   "cell_type": "markdown",
   "metadata": {},
   "source": [
    "### MNIST 손글씨 인식 실습 – Keras Model"
   ]
  },
  {
   "cell_type": "code",
   "execution_count": 16,
   "metadata": {},
   "outputs": [
    {
     "name": "stdout",
     "output_type": "stream",
     "text": [
      "Model: \"sequential_2\"\n",
      "_________________________________________________________________\n",
      "Layer (type)                 Output Shape              Param #   \n",
      "=================================================================\n",
      "dense_18 (Dense)             (None, 300)               235500    \n",
      "_________________________________________________________________\n",
      "dense_19 (Dense)             (None, 100)               30100     \n",
      "_________________________________________________________________\n",
      "dropout_6 (Dropout)          (None, 100)               0         \n",
      "_________________________________________________________________\n",
      "dense_20 (Dense)             (None, 10)                1010      \n",
      "=================================================================\n",
      "Total params: 266,610\n",
      "Trainable params: 266,610\n",
      "Non-trainable params: 0\n",
      "_________________________________________________________________\n",
      "Train on 48000 samples, validate on 12000 samples\n",
      "Epoch 1/5\n",
      "48000/48000 [==============================] - 2s 33us/sample - loss: 0.4080 - accuracy: 0.8784 - val_loss: 0.1545 - val_accuracy: 0.9556\n",
      "Epoch 2/5\n",
      "48000/48000 [==============================] - 1s 27us/sample - loss: 0.1706 - accuracy: 0.9508 - val_loss: 0.1080 - val_accuracy: 0.9674\n",
      "Epoch 3/5\n",
      "48000/48000 [==============================] - 1s 26us/sample - loss: 0.1188 - accuracy: 0.9658 - val_loss: 0.0997 - val_accuracy: 0.9678\n",
      "Epoch 4/5\n",
      "48000/48000 [==============================] - 1s 27us/sample - loss: 0.0859 - accuracy: 0.9740 - val_loss: 0.0892 - val_accuracy: 0.9732\n",
      "Epoch 5/5\n",
      "48000/48000 [==============================] - 1s 26us/sample - loss: 0.0728 - accuracy: 0.9790 - val_loss: 0.0803 - val_accuracy: 0.9768\n",
      "10000/10000 - 1s - loss: 0.0763 - accuracy: 0.9775\n",
      "Test loss: 0.07633749991919613\n",
      "Test accuracy: 0.9775\n"
     ]
    }
   ],
   "source": [
    "def make_model():\n",
    "    model = tf.keras.Sequential([\n",
    "        tf.keras.layers.Dense(n_L1, activation=tf.nn.relu, input_shape=(n_input,)),\n",
    "        tf.keras.layers.Dense(n_L2, activation=tf.nn.relu),\n",
    "        tf.keras.layers.Dropout(0.5),\n",
    "        tf.keras.layers.Dense(n_output, activation=tf.nn.softmax)])\n",
    "    model.summary()\n",
    "    return model\n",
    "\n",
    "model = make_model()\n",
    "model.compile(loss='sparse_categorical_crossentropy',\n",
    "              optimizer='adam',\n",
    "              metrics=['accuracy'])\n",
    "\n",
    "history = model.fit(x_train, y_train,\n",
    "                    batch_size=100,\n",
    "                    epochs=5,\n",
    "                    validation_split=0.2)\n",
    "\n",
    "test_scores = model.evaluate(x_test, y_test, verbose=2)\n",
    "print('Test loss:', test_scores[0])\n",
    "print('Test accuracy:', test_scores[1])"
   ]
  },
  {
   "cell_type": "markdown",
   "metadata": {},
   "source": [
    "#### predict"
   ]
  },
  {
   "cell_type": "code",
   "execution_count": 17,
   "metadata": {
    "scrolled": true
   },
   "outputs": [
    {
     "data": {
      "image/png": "[encoded data removed]",
      "text/plain": [
       "<Figure size 432x288 with 1 Axes>"
      ]
     },
     "metadata": {
      "needs_background": "light"
     },
     "output_type": "display_data"
    },
    {
     "name": "stdout",
     "output_type": "stream",
     "text": [
      "(1, 784)\n",
      "[[9.89431739e-01 2.72225807e-05 4.31229128e-03 1.11697336e-04\n",
      "  1.84069539e-03 5.17279608e-04 1.15703256e-03 5.62637288e-04\n",
      "  2.83647416e-04 1.75582350e-03]] [0]\n",
      "(1, 784)\n",
      "[[2.7392076e-03 3.2389378e-03 4.0070568e-03 2.6232630e-04 9.6405679e-01\n",
      "  1.5611033e-03 5.7980232e-03 7.2664684e-03 3.7859796e-04 1.0691559e-02]] [4]\n",
      "(1, 784)\n",
      "[[8.4816562e-03 3.5229741e-04 5.2944029e-04 8.6539248e-03 1.1959266e-03\n",
      "  9.0108484e-01 2.5104955e-02 9.2065916e-04 3.6929246e-02 1.6747175e-02]] [5]\n",
      "(1, 784)\n",
      "[[7.6272218e-03 1.0600236e-03 2.2682259e-03 1.7695397e-02 5.9553245e-03\n",
      "  4.0289886e-02 1.4743563e-02 7.3131232e-04 8.7647414e-01 3.3154923e-02]] [8]\n"
     ]
    },
    {
     "data": {
      "image/png": "[encoded data removed]",
      "text/plain": [
       "<Figure size 432x288 with 4 Axes>"
      ]
     },
     "metadata": {
      "needs_background": "light"
     },
     "output_type": "display_data"
    }
   ],
   "source": [
    "import numpy as np\n",
    "import cv2\n",
    "import img2data\n",
    "\n",
    "img_path = './img/0458.png'\n",
    "\n",
    "image = cv2.imread(img_path)\n",
    "plt.imshow(image)\n",
    "plt.show()\n",
    "\n",
    "numbers = img2data.img2digits(image, (28,28), border=4)\n",
    "for i, n in enumerate(numbers):\n",
    "    print(n.shape)\n",
    "    \n",
    "    Z = model.predict(n.astype(np.float32)/255.0)\n",
    "    \n",
    "    pred = np.argmax(Z, axis=1)\n",
    "    print(Z, pred)\n",
    "    plt.subplot(1, len(numbers), i+1)\n",
    "    plt.title(str(pred))\n",
    "    plt.imshow(n.reshape(28,28), cmap=\"gray\")"
   ]
  }
 ],
 "metadata": {
  "kernelspec": {
   "display_name": "Python 3",
   "language": "python",
   "name": "python3"
  },
  "language_info": {
   "codemirror_mode": {
    "name": "ipython",
    "version": 3
   },
   "file_extension": ".py",
   "mimetype": "text/x-python",
   "name": "python",
   "nbconvert_exporter": "python",
   "pygments_lexer": "ipython3",
   "version": "3.7.6"
  }
 },
 "nbformat": 4,
 "nbformat_minor": 2
}
