{
 "cells": [
  {
   "cell_type": "markdown",
   "metadata": {
    "slideshow": {
     "slide_type": "slide"
    }
   },
   "source": [
    "# Deep Learning Introduction"
   ]
  },
  {
   "cell_type": "code",
   "execution_count": 2,
   "metadata": {
    "slideshow": {
     "slide_type": "subslide"
    }
   },
   "outputs": [
    {
     "name": "stdout",
     "output_type": "stream",
     "text": [
      "2.1.0\n"
     ]
    }
   ],
   "source": [
    "import tensorflow as tf\n",
    "print(tf.__version__)"
   ]
  },
  {
   "cell_type": "markdown",
   "metadata": {
    "slideshow": {
     "slide_type": "slide"
    }
   },
   "source": [
    "## Tensor Object"
   ]
  },
  {
   "cell_type": "code",
   "execution_count": 18,
   "metadata": {},
   "outputs": [
    {
     "name": "stdout",
     "output_type": "stream",
     "text": [
      "tf.Tensor(1, shape=(), dtype=int32) tf.Tensor(2, shape=(), dtype=int32) tf.Tensor(3, shape=(), dtype=int32)\n",
      "() <dtype: 'int32'>\n",
      "tf.Tensor(3, shape=(), dtype=int32)\n"
     ]
    }
   ],
   "source": [
    "tsr1 = tf.convert_to_tensor(1)\n",
    "tsr2 = tf.convert_to_tensor(2)\n",
    "\n",
    "ret2 = tf.add(tsr1, tsr2)\n",
    "print(tsr1, tsr2, ret2)\n",
    "print(ret2.shape, ret2.dtype)\n",
    "#print(const.op)\n",
    "#print(const.graph)\n",
    "\n",
    "tsr3 = tf.add(1,2)\n",
    "print(tsr3)\n"
   ]
  },
  {
   "cell_type": "markdown",
   "metadata": {
    "slideshow": {
     "slide_type": "slide"
    }
   },
   "source": [
    "### Broadcasting"
   ]
  },
  {
   "cell_type": "code",
   "execution_count": 19,
   "metadata": {},
   "outputs": [
    {
     "name": "stdout",
     "output_type": "stream",
     "text": [
      "tf.Tensor(\n",
      "[[2 3]\n",
      " [4 5]], shape=(2, 2), dtype=int32)\n"
     ]
    }
   ],
   "source": [
    "ret3 = tf.add([[1,2],\n",
    "               [3,4]], 1)\n",
    "print(ret3)"
   ]
  },
  {
   "cell_type": "markdown",
   "metadata": {},
   "source": [
    "### Operator Overloading"
   ]
  },
  {
   "cell_type": "code",
   "execution_count": 20,
   "metadata": {},
   "outputs": [
    {
     "name": "stdout",
     "output_type": "stream",
     "text": [
      "tf.Tensor(\n",
      "[[ 6  9]\n",
      " [12 15]], shape=(2, 2), dtype=int32)\n"
     ]
    }
   ],
   "source": [
    "print(ret2 * ret3)"
   ]
  },
  {
   "cell_type": "markdown",
   "metadata": {},
   "source": [
    "### 형변환\n"
   ]
  },
  {
   "cell_type": "code",
   "execution_count": 21,
   "metadata": {},
   "outputs": [
    {
     "name": "stdout",
     "output_type": "stream",
     "text": [
      "tf.Tensor(10, shape=(), dtype=int32)\n",
      "tf.Tensor(10.0, shape=(), dtype=float32)\n",
      "tf.Tensor([1.8 2.2], shape=(2,), dtype=float32)\n",
      "tf.Tensor([1 2], shape=(2,), dtype=int32)\n"
     ]
    }
   ],
   "source": [
    "tensor1 = tf.convert_to_tensor(10)\n",
    "print(tensor1)\n",
    "tensor_f32 = tf.cast(tensor1, tf.float32)\n",
    "print(tensor_f32)\n",
    "\n",
    "tensor2 = tf.convert_to_tensor([1.8, 2.2])\n",
    "print(tensor2)\n",
    "tensor_int32 = tf.cast(tensor2, tf.int32)\n",
    "print(tensor_int32)"
   ]
  },
  {
   "cell_type": "markdown",
   "metadata": {},
   "source": [
    "### NumPy 호환성\n"
   ]
  },
  {
   "cell_type": "code",
   "execution_count": 22,
   "metadata": {},
   "outputs": [
    {
     "name": "stdout",
     "output_type": "stream",
     "text": [
      "[1 2 3 4] [2 3 4 5] tf.Tensor([3 5 7 9], shape=(4,), dtype=int32)\n",
      "(4,) <dtype: 'int32'>\n",
      "[3 5 7 9] [3 5 7 9]\n",
      "<class 'numpy.ndarray'> [ 4  6  8 10]\n"
     ]
    }
   ],
   "source": [
    "import numpy as np\n",
    "\n",
    "ndarray1 = np.array([1,2,3,4])\n",
    "ndarray2 = np.array([2,3,4,5])\n",
    "tensor = tf.add(ndarray1, ndarray2)\n",
    "print(ndarray1, ndarray2, tensor)\n",
    "print(tensor.shape, tensor.dtype)\n",
    "print(np.array(tensor), tensor.numpy())\n",
    "\n",
    "ndarr3 = np.add(tensor, 1)\n",
    "print(type(ndarr3), ndarr3)"
   ]
  },
  {
   "cell_type": "markdown",
   "metadata": {},
   "source": [
    "## Constant"
   ]
  },
  {
   "cell_type": "code",
   "execution_count": 26,
   "metadata": {},
   "outputs": [
    {
     "name": "stdout",
     "output_type": "stream",
     "text": [
      "<class 'tensorflow.python.framework.ops.EagerTensor'>\n",
      "tf.Tensor(1.0, shape=(), dtype=float32)\n"
     ]
    }
   ],
   "source": [
    "const = tf.constant(1.)\n",
    "print(type(const))\n",
    "print(const)"
   ]
  },
  {
   "cell_type": "markdown",
   "metadata": {},
   "source": [
    "## Variable\n"
   ]
  },
  {
   "cell_type": "code",
   "execution_count": 13,
   "metadata": {},
   "outputs": [
    {
     "name": "stdout",
     "output_type": "stream",
     "text": [
      "<tf.Variable 'Variable:0' shape=() dtype=float32, numpy=1.0>\n",
      "<tf.Variable 'Variable:0' shape=() dtype=float32, numpy=3.0>\n",
      "<tf.Variable 'Variable:0' shape=() dtype=float32, numpy=9.0>\n",
      "9.0\n"
     ]
    }
   ],
   "source": [
    "import tensorflow as tf\n",
    "\n",
    "v = tf.Variable(1.0)\n",
    "print(v)\n",
    "\n",
    "v.assign(3,0)\n",
    "print(v)\n",
    "\n",
    "v.assign(tf.square(v))\n",
    "print(v)\n",
    "print(v.numpy())"
   ]
  },
  {
   "cell_type": "markdown",
   "metadata": {},
   "source": [
    "## 난수 생성\n"
   ]
  },
  {
   "cell_type": "code",
   "execution_count": 39,
   "metadata": {},
   "outputs": [
    {
     "name": "stdout",
     "output_type": "stream",
     "text": [
      "tf.Tensor(\n",
      "[[ 1.1748335   1.9058863  -1.6971089 ]\n",
      " [-0.13468505 -0.6353818   0.47058296]\n",
      " [ 0.2666564   1.844125   -1.5391822 ]], shape=(3, 3), dtype=float32)\n",
      "tf.Tensor(\n",
      "[[ 0.30730018  0.75688726  1.5913124 ]\n",
      " [-0.1317046   0.09050433  0.7070529 ]\n",
      " [-0.31184563  1.0648348   1.3399209 ]], shape=(3, 3), dtype=float32)\n",
      "tf.Tensor(\n",
      "[[0.45674193 0.8424816  0.1675365 ]\n",
      " [0.1141715  0.19001782 0.09423935]\n",
      " [0.7018807  0.6988872  0.8635855 ]], shape=(3, 3), dtype=float32)\n"
     ]
    }
   ],
   "source": [
    "import tensorflow as tf\n",
    "\n",
    "print(tf.random.normal((3,3)))\n",
    "print(tf.random.truncated_normal((3,3)))\n",
    "print(tf.random.uniform((3,3)))"
   ]
  },
  {
   "cell_type": "markdown",
   "metadata": {},
   "source": [
    "### 변수 랜덤 값 초기화"
   ]
  },
  {
   "cell_type": "code",
   "execution_count": 18,
   "metadata": {},
   "outputs": [
    {
     "name": "stdout",
     "output_type": "stream",
     "text": [
      "x: <tf.Variable 'x:0' shape=() dtype=float32, numpy=-0.23415838>\n",
      "y: <tf.Variable 'y:0' shape=(2, 3) dtype=float32, numpy=\n",
      "array([[-0.823021 ,  1.7607627, -1.0683422],\n",
      "       [ 0.5198051,  0.266848 , -1.0285709]], dtype=float32)>\n"
     ]
    }
   ],
   "source": [
    "import tensorflow as tf\n",
    "\n",
    "x = tf.Variable(tf.random.normal([]), name=\"x\")\n",
    "y = tf.Variable(tf.random.normal([2,3]), name=\"y\")\n",
    "\n",
    "print(\"x:\", x)\n",
    "print(\"y:\", y)"
   ]
  },
  {
   "cell_type": "markdown",
   "metadata": {},
   "source": [
    "## 자동 미분"
   ]
  },
  {
   "cell_type": "code",
   "execution_count": 45,
   "metadata": {},
   "outputs": [
    {
     "name": "stdout",
     "output_type": "stream",
     "text": [
      "3.0 9.0 18.0\n",
      "dz_dx: tf.Tensor(12.0, shape=(), dtype=float32)\n",
      "dy_dx: tf.Tensor(6.0, shape=(), dtype=float32)\n"
     ]
    }
   ],
   "source": [
    "#x = tf.constant(3.0)\n",
    "x = tf.Variable(3.0)\n",
    "with tf.GradientTape(persistent=True) as tape:\n",
    "    #tape.watch(x)\n",
    "    y = x * x  # y = x^2\n",
    "    z = y + y  # z = 2* (x^2)\n",
    "    print(x.numpy(), y.numpy(), z.numpy()) \n",
    "dz_dx = tape.gradient(z, x)  # 12.0 (4x at x = 3)\n",
    "dy_dx = tape.gradient(y, x)  # 6.0 (2x at x =3)\n",
    "print(\"dz_dx:\", dz_dx)\n",
    "print(\"dy_dx:\", dy_dx)\n",
    "del tape  # 테이프에 대한 참조를 삭제합니다."
   ]
  }
 ],
 "metadata": {
  "kernelspec": {
   "display_name": "Python 3",
   "language": "python",
   "name": "python3"
  },
  "language_info": {
   "codemirror_mode": {
    "name": "ipython",
    "version": 3
   },
   "file_extension": ".py",
   "mimetype": "text/x-python",
   "name": "python",
   "nbconvert_exporter": "python",
   "pygments_lexer": "ipython3",
   "version": "3.7.6"
  }
 },
 "nbformat": 4,
 "nbformat_minor": 2
}
