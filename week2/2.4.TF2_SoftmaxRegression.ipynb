{
 "cells": [
  {
   "cell_type": "markdown",
   "metadata": {},
   "source": [
    "# TF2 Softmax Regression"
   ]
  },
  {
   "cell_type": "markdown",
   "metadata": {},
   "source": [
    "## Multinomial Classification\n",
    "* 여러 클래스를 분류하는 방법\n",
    "    * 각 클래스별 Weight 계산 필요\n",
    "    * 이진 분류기를 여러번 쓰는 것\n",
    "    * 하나의 행렬로 계산\n",
    "    * 이진 분류기를 여러번 쓰는 방법에 비해 행렬 연산을 하는 것이 효과적\n",
    "* 이진 분류기를 여러번 쓰는 것\n",
    "    * 클래스 A 모델:\n",
    "    $\\begin{bmatrix}x_1 & x_2 \\end{bmatrix}\n",
    "    \\begin{bmatrix}w_{a1} \\\\ w_{a2}\\end{bmatrix}\n",
    "    = \\begin{bmatrix}w_{a1}x_1 +w_{a2}x_2\\end{bmatrix}$\n",
    "    * 클래스 B 모델:\n",
    "    $\\begin{bmatrix}x_1 & x_2 \\end{bmatrix}\n",
    "    \\begin{bmatrix}w_{b1} \\\\ w_{b2}\\end{bmatrix}\n",
    "    =\\begin{bmatrix}w_{b1}x_1 +w_{b2}x_2\\end{bmatrix}$\n",
    "    * 클래스 C 모델:$\\begin{bmatrix}x_1 & x_2 \\end{bmatrix}\n",
    "    \\begin{bmatrix}w_{c1} \\\\ w_{c2}\\end{bmatrix}\n",
    "    =\\begin{bmatrix}w_{c1}x_1 +w_{c2}x_2\\end{bmatrix}$\n",
    "* 하나의 행렬로 계산\n",
    "    * $\\begin{bmatrix}x_1 & x_2 \\end{bmatrix}\n",
    "    \\begin{bmatrix}w_{a1}  & w_{b1} & w_{c1} \\\\ w_{a2} & w_{b2} &w_{c2}  \\end{bmatrix}\n",
    "    = \\begin{bmatrix}w_{a1}x_1 +w_{a2}x_2 & w_{b1}x_1 +w_{b2}x_2 & w_{c1}x_1 +w_{c2}x_2 \\end{bmatrix}$"
   ]
  },
  {
   "cell_type": "markdown",
   "metadata": {},
   "source": [
    "### One-Hot Encoing\n",
    "* 범주형 데이타를 숫자로 표현할 방법 필요\n",
    "   * 예) {dog:0, cat:1, cow:2}\n",
    "   * 범주 숫자가 크기(scale)를 갖는 문제\n",
    "       * $cat > dog : True ???$\n",
    "       * $cow - dog = 2 ???$\n",
    "       * $cat + dog = cow ???$\n",
    "* One-Hot Encoding\n",
    "    * 범주 갯수와 같은 길이의 배열\n",
    "    * 범주와 같은 인덱스 요소만 1이고 나머지는 0으로 구성\n",
    "    * 예) {dog:0, cat:1, cow:2} : 범주 갯수=3\n",
    "        * dog(0) : \\[1,0,0\\]\n",
    "        * cat(1) : \\[0,1,0\\]\n",
    "        * cow(2) : \\[0,0,1\\]\n",
    "* One-Hot encoding API\n",
    "    * NumPy : `np.eye()` +  Fancy Indexing\n",
    "        * `np.eye(classes)`: 대각 행렬 생성\n",
    "        * 예) `np.eye(3)[[0, 1, 1, 0, 2]]`\n",
    "    * TF : `tf.keras.utils.to_categorical(y, num_clases)`\n",
    "        * `y` : class vector\n",
    "        * `num_classes` : 범주의 갯수\n"
   ]
  },
  {
   "cell_type": "code",
   "execution_count": 1,
   "metadata": {},
   "outputs": [],
   "source": [
    "classes = 3\n",
    "label= [0, 1, 1, 0, 2]"
   ]
  },
  {
   "cell_type": "code",
   "execution_count": 2,
   "metadata": {
    "scrolled": true
   },
   "outputs": [
    {
     "data": {
      "text/plain": [
       "array([[1., 0., 0.],\n",
       "       [0., 1., 0.],\n",
       "       [0., 0., 1.]])"
      ]
     },
     "execution_count": 2,
     "metadata": {},
     "output_type": "execute_result"
    }
   ],
   "source": [
    "import numpy as np\n",
    "np.eye(classes)"
   ]
  },
  {
   "cell_type": "code",
   "execution_count": 3,
   "metadata": {},
   "outputs": [
    {
     "data": {
      "text/plain": [
       "array([[1., 0., 0.],\n",
       "       [0., 1., 0.],\n",
       "       [0., 1., 0.],\n",
       "       [1., 0., 0.],\n",
       "       [0., 0., 1.]])"
      ]
     },
     "execution_count": 3,
     "metadata": {},
     "output_type": "execute_result"
    }
   ],
   "source": [
    "np.eye(3)[label]"
   ]
  },
  {
   "cell_type": "code",
   "execution_count": 4,
   "metadata": {},
   "outputs": [
    {
     "data": {
      "text/plain": [
       "array([[1., 0., 0.],\n",
       "       [0., 1., 0.],\n",
       "       [0., 1., 0.],\n",
       "       [1., 0., 0.],\n",
       "       [0., 0., 1.]], dtype=float32)"
      ]
     },
     "execution_count": 4,
     "metadata": {},
     "output_type": "execute_result"
    }
   ],
   "source": [
    "import tensorflow as tf\n",
    "classes = 3\n",
    "label= [0, 1, 1, 0, 2]\n",
    "tf.keras.utils.to_categorical(label, num_classes=classes)"
   ]
  },
  {
   "cell_type": "markdown",
   "metadata": {},
   "source": [
    "### Softmax 함수\n",
    "* 다항 로지스틱 회귀\n",
    "    * 여러 클래스에 대한 각각의 $H(x)$를 확률로 변형 필요\n",
    "    * Sigmoid 대신 Softmax 함수 사용\n",
    "* Softmax\n",
    "    * $\\displaystyle P(z) = \\frac{e^{z_i}}{e^{z_0} + e^{z_1} + e^{z_2}... + e^{z_k}}= \\frac{e^{z_i}}{\\sum_{k=1}^ke^{z_k}} (for \\, i=1,2,...,K)$\n",
    "    * 확율\n",
    "    * 각 클래스의 출력을 0~1 사이의 값으로 변환, * 모든 클래스의 값의 합은 1\n",
    "* Tensorflow API\n",
    "    * `tf.nn.softmax(logits)`\n",
    "        * types : float16(half), float32, float64"
   ]
  },
  {
   "cell_type": "code",
   "execution_count": 5,
   "metadata": {},
   "outputs": [
    {
     "name": "stdout",
     "output_type": "stream",
     "text": [
      "logits [2. 1. 3.]\n",
      "probability: [0.24472848 0.09003057 0.66524094] sum: 1.0\n"
     ]
    }
   ],
   "source": [
    "import numpy as np\n",
    "\n",
    "logits = np.array([2,1,3], dtype=np.float32)\n",
    "print(\"logits\", logits)\n",
    "\n",
    "p = np.exp(logits) / np.sum(np.exp(logits))\n",
    "\n",
    "print(\"probability:\", p, \"sum:\", np.sum(p))"
   ]
  },
  {
   "cell_type": "code",
   "execution_count": 6,
   "metadata": {},
   "outputs": [
    {
     "name": "stdout",
     "output_type": "stream",
     "text": [
      "logits [2. 1. 3.]\n",
      "probability: [0.24472848 0.09003057 0.66524094] sum: 1.0\n"
     ]
    }
   ],
   "source": [
    "import tensorflow as tf\n",
    "\n",
    "logits = np.array([2,1,3], dtype=np.float32)\n",
    "print(\"logits\", logits)\n",
    "\n",
    "p = tf.nn.softmax(logits)\n",
    "print(\"probability:\", p.numpy(), \"sum:\", tf.reduce_sum(p).numpy())"
   ]
  },
  {
   "cell_type": "markdown",
   "metadata": {},
   "source": [
    "### Argmax Softmax Prediction\n",
    "* $\\hat{y} = argmax(\\hat{p})$\n",
    "* Softmax 결과에서 확률이 가장 높은 클래스의 Index 반환\n",
    "* API \n",
    "    * `np.argmax(p)`\n",
    "    * `tf.argmax(p)`"
   ]
  },
  {
   "cell_type": "code",
   "execution_count": 7,
   "metadata": {},
   "outputs": [
    {
     "name": "stdout",
     "output_type": "stream",
     "text": [
      "argmax: 2\n",
      "argmax: 2\n"
     ]
    }
   ],
   "source": [
    "%matplotlib inline\n",
    "import tensorflow as tf\n",
    "import numpy as np\n",
    "import matplotlib.pyplot as plt\n",
    "\n",
    "logits = np.array([2,1,3], dtype=np.float32)\n",
    "p = np.exp(logits) / np.sum(np.exp(logits))\n",
    "print(\"argmax:\", np.argmax(p))\n",
    "\n",
    "p2 = tf.nn.softmax(logits)\n",
    "print(\"argmax:\", tf.argmax(p2).numpy())"
   ]
  },
  {
   "cell_type": "markdown",
   "metadata": {},
   "source": [
    "### Cross Entropy Cost 함수\n",
    "* Softmax의 비용함수 \n",
    "    * $\\displaystyle Cost(W) =  -\\frac{1}{m}\\sum_{i=1}^m y \\cdot log(p) = \\frac{1}{m}\\sum_{i=1}^m -y \\cdot log(p)$\n",
    "    * Binary Cross Entropy의  $y=1$ 경우를 모두 합한 형태\n",
    "* Cross Entropy cost 함수 원리\n",
    "    * 소프트맥스를 통과한 결과값 $p$는 어떤 특정한 클래스만 큰 값을 갖고 나머지는 아주 작은 값을 갖는다.\n",
    "    * One-hot encoding 된 $y$는 정답 클래스인 경우만 1을 나머지는 0을 가지고 있다.\n",
    "    * $p$와 $y$를 곱하면 정답만 남고 나머지는 0으로 사라진다.\n",
    "    * $-log(p)$함수를 적용하면 0에 가까운 값은 매우 커지고 1에 가까운 값은 0에 가까워 진다.\n",
    "    * 따라서 $y\\cdot -log(p)$는 정답과 틀리면 매우 큰 값을 갖고 정답에 맞으면 0에 가까운 값이 나오므로 비용함수로 적합하다."
   ]
  },
  {
   "cell_type": "code",
   "execution_count": 8,
   "metadata": {},
   "outputs": [
    {
     "name": "stderr",
     "output_type": "stream",
     "text": [
      "c:\\python37\\lib\\site-packages\\ipykernel_launcher.py:8: RuntimeWarning: divide by zero encountered in log\n",
      "  \n"
     ]
    },
    {
     "data": {
      "image/png": "[encoded data removed]",
      "text/plain": [
       "<Figure size 432x288 with 1 Axes>"
      ]
     },
     "metadata": {
      "needs_background": "light"
     },
     "output_type": "display_data"
    }
   ],
   "source": [
    "%matplotlib inline\n",
    "import tensorflow as tf\n",
    "import numpy as np\n",
    "import matplotlib.pyplot as plt\n",
    "\n",
    "def drawLogNegative():\n",
    "    p = np.linspace(0, 1, 100)\n",
    "    y = -np.log(p)\n",
    "    plt.plot(p, y)\n",
    "    plt.title(\"$-log(p)$\")\n",
    "drawLogNegative()"
   ]
  },
  {
   "cell_type": "markdown",
   "metadata": {},
   "source": [
    "###  Cross Entorypy Cost 예시\n",
    "* 정답 = \\[0,1,0\\]\n",
    "* 틀린 예측 = \\[0.99, 0.006, 0.004\\]\n",
    "* 맞는 예측 = \\[0.01, 0.97, 0.02\\]"
   ]
  },
  {
   "cell_type": "code",
   "execution_count": 9,
   "metadata": {},
   "outputs": [
    {
     "name": "stdout",
     "output_type": "stream",
     "text": [
      "y\t [0. 1. 0.]\n",
      "p\t wrong:[0.93623954 0.04661262 0.01714783],\t right:[0.01714783 0.93623954 0.04661262]\n",
      "-log(p)\t wrong : [0.06588392 3.0658839  4.065884  ],\t right:[4.065884   0.06588392 3.0658839 ]\n",
      "cost\t wrong:3.0658838748931885,\t right:0.06588391959667206\n"
     ]
    }
   ],
   "source": [
    "y = np.array([0,1,0], dtype=np.float32)\n",
    "t_logit = np.array([5, 2, 1], dtype=np.float32)\n",
    "f_logit = np.array([1, 5, 2], dtype=np.float32)\n",
    "\n",
    "fp = tf.nn.softmax(t_logit)\n",
    "tp = tf.nn.softmax(f_logit)\n",
    "print(f'y\\t {y}')\n",
    "print(f'p\\t wrong:{fp},\\t right:{tp}')\n",
    "flogs = -np.log(fp)\n",
    "tlogs = -np.log(tp)\n",
    "print(f'-log(p)\\t wrong : {flogs},\\t right:{tlogs}')\n",
    "\n",
    "fc = np.sum( flogs * y)\n",
    "tc = np.sum( tlogs * y)\n",
    "print(f'cost\\t wrong:{fc},\\t right:{tc}')"
   ]
  },
  {
   "cell_type": "markdown",
   "metadata": {},
   "source": [
    "### Tensorflow API\n",
    "* `tf.nn.softmax_cross_entropy_with_logits(labels, logits)`\n",
    "    *  `labels` :one-hot encoded label\n",
    "    * `logits` : softmax 하기 전 출력 값(내부적으로 softmax 처리)\n",
    "* `tf.keras.losses.categorical_crossentropy(y_true, y_pred)`\n",
    "    * `y_true` : one-hot encoded label\n",
    "    * `y_pred` : predted probability\n",
    "* `tf.keras.losses.sparse_categorical_crossentropy(y_true, y_pred)`\n",
    "    * `y_true` : non one-hot encoded label(class vector)\n",
    "    * `y_pred` : predted probability"
   ]
  },
  {
   "cell_type": "code",
   "execution_count": 10,
   "metadata": {},
   "outputs": [
    {
     "name": "stdout",
     "output_type": "stream",
     "text": [
      "cost wrong:3.0658838748931885, right:0.06588391214609146\n"
     ]
    }
   ],
   "source": [
    "fc = tf.nn.softmax_cross_entropy_with_logits(y, t_logit)\n",
    "tc = tf.nn.softmax_cross_entropy_with_logits(y, f_logit)\n",
    "print(f'cost wrong:{fc}, right:{tc}')"
   ]
  },
  {
   "cell_type": "code",
   "execution_count": 11,
   "metadata": {},
   "outputs": [
    {
     "name": "stdout",
     "output_type": "stream",
     "text": [
      "cost\t wrong:3.0658838748931885,\t right:0.06588391214609146\n"
     ]
    }
   ],
   "source": [
    "tf_fc = tf.keras.losses.categorical_crossentropy(y, fp)\n",
    "tf_tc = tf.keras.losses.categorical_crossentropy(y, tp)\n",
    "print(f'cost\\t wrong:{tf_fc},\\t right:{tf_tc}')"
   ]
  },
  {
   "cell_type": "code",
   "execution_count": 12,
   "metadata": {},
   "outputs": [
    {
     "name": "stdout",
     "output_type": "stream",
     "text": [
      "cost\t wrong:[3.0658839],\t right:[0.06588391]\n"
     ]
    }
   ],
   "source": [
    "y_label = tf.convert_to_tensor([1]) #[0,1,0]\n",
    "tf_fp = tf.convert_to_tensor(fp)\n",
    "tf_tp = tf.convert_to_tensor(tp)\n",
    "tf_fc1 = tf.keras.losses.sparse_categorical_crossentropy(y_label, tf_fp )\n",
    "tf_tc1 = tf.keras.losses.sparse_categorical_crossentropy(y_label, tf_tp)\n",
    "print(f'cost\\t wrong:{tf_fc1},\\t right:{tf_tc1}')"
   ]
  },
  {
   "cell_type": "markdown",
   "metadata": {},
   "source": [
    "### Gradient of Cross Entropy\n",
    "* Gradient : $\\displaystyle\\frac{\\partial}{\\partial{W}}cost(W) = \\frac{1}{m}\\sum_{i=1}^m((H(x)-y)x$\n",
    "    * Linear Regression의 Gradient와 동일\n",
    "    * Convex 하기 때문"
   ]
  },
  {
   "cell_type": "markdown",
   "metadata": {},
   "source": [
    "### 다항 랜덤수 분류 예제"
   ]
  },
  {
   "cell_type": "code",
   "execution_count": 13,
   "metadata": {},
   "outputs": [
    {
     "data": {
      "text/plain": [
       "<matplotlib.collections.PathCollection at 0x1a1fc8b9e88>"
      ]
     },
     "execution_count": 13,
     "metadata": {},
     "output_type": "execute_result"
    },
    {
     "data": {
      "image/png": "[encoded data removed]",
      "text/plain": [
       "<Figure size 432x288 with 1 Axes>"
      ]
     },
     "metadata": {
      "needs_background": "light"
     },
     "output_type": "display_data"
    }
   ],
   "source": [
    "%matplotlib inline\n",
    "import matplotlib.pyplot as plt\n",
    "import tensorflow as tf\n",
    "import numpy as np\n",
    "\n",
    "np.random.seed(0)\n",
    "x1 = np.random.rand(10,2) \n",
    "x2 = np.random.rand(10,2) -1\n",
    "x3 = np.random.rand(10,2)\n",
    "x3[:, 0] = x2[:,0] + 1\n",
    "x3[:, 1] = x2[:,1] - 1\n",
    "\n",
    "\n",
    "X = np.concatenate((x1,x2,x3)).astype(np.float32)\n",
    "label = np.zeros((30), dtype=np.int16)\n",
    "label[10:20] = 1\n",
    "label[20:] = 2\n",
    "y = tf.keras.utils.to_categorical(label)\n",
    "colormap = np.array(['r', 'g', 'b'])\n",
    "plt.scatter(X[:,0], X[:,1], s=30, c=colormap[label], marker='^')\n"
   ]
  },
  {
   "cell_type": "code",
   "execution_count": 14,
   "metadata": {},
   "outputs": [
    {
     "name": "stdout",
     "output_type": "stream",
     "text": [
      "step:0, cost:3.172290086746216\n",
      "step:200, cost:0.3163733184337616\n",
      "step:400, cost:0.18467466533184052\n",
      "step:600, cost:0.1405775547027588\n",
      "step:800, cost:0.11755137890577316\n",
      "step:1000, cost:0.10305263102054596\n",
      "step:1200, cost:0.0929173156619072\n",
      "step:1400, cost:0.08534278720617294\n",
      "step:1600, cost:0.07941358536481857\n",
      "step:1800, cost:0.07461167871952057\n",
      "step:2000, cost:0.07062053680419922\n",
      "step:2200, cost:0.06723454594612122\n",
      "step:2400, cost:0.06431405991315842\n",
      "step:2600, cost:0.06176048144698143\n",
      "step:2800, cost:0.05950198322534561\n",
      "step:3000, cost:0.05748502537608147\n",
      "step:3200, cost:0.05566859990358353\n",
      "step:3400, cost:0.054020870476961136\n",
      "step:3600, cost:0.052516594529151917\n",
      "step:3800, cost:0.0511355958878994\n",
      "step:4000, cost:0.04986134544014931\n",
      "step:4200, cost:0.04868030920624733\n",
      "step:4400, cost:0.04758130759000778\n",
      "step:4600, cost:0.046554844826459885\n",
      "step:4800, cost:0.04559300094842911\n",
      "step:5000, cost:0.044688913971185684\n",
      "Accuracy:1.0\n"
     ]
    },
    {
     "data": {
      "text/plain": [
       "<matplotlib.collections.PathCollection at 0x1a1fc985888>"
      ]
     },
     "execution_count": 14,
     "metadata": {},
     "output_type": "execute_result"
    },
    {
     "data": {
      "image/png": "[encoded data removed]",
      "text/plain": [
       "<Figure size 432x288 with 1 Axes>"
      ]
     },
     "metadata": {
      "needs_background": "light"
     },
     "output_type": "display_data"
    }
   ],
   "source": [
    "plt.scatter(X[:,0], X[:,1], s=20, c=colormap[label], marker='^')\n",
    "\n",
    "W = tf.Variable(tf.random.normal([2, 3], seed=0))\n",
    "b = tf.Variable(tf.random.normal([3], seed=0))\n",
    "learning_rate = 0.05\n",
    "opt = tf.keras.optimizers.SGD(learning_rate)\n",
    "for step in range(5001):\n",
    "    with tf.GradientTape() as tape:\n",
    "        h = tf.matmul(X, W) + b\n",
    "        p = tf.nn.softmax(h)\n",
    "        cost = tf.reduce_mean(-tf.reduce_sum(y * tf.math.log(p), axis=1))\n",
    "        #cost = tf.reduce_mean(tf.nn.softmax_cross_entropy_with_logits(labels=y, logits=h))\n",
    "        #cost = tf.reduce_mean(tf.keras.losses.categorical_crossentropy(y, p))\n",
    "        #cost = tf.reduce_mean(tf.keras.losses.sparse_categorical_crossentropy(label, p))\n",
    "    d_W, d_b = tape.gradient(cost, [W, b])\n",
    "    #W.assign_sub(learning_rate * d_W)\n",
    "    #b.assign_sub(learning_rate * d_b)\n",
    "    opt.apply_gradients(zip([d_W, d_b], [W, b]))\n",
    "    if step % 200 == 0:\n",
    "            print(\"step:{}, cost:{}\".format(step, cost))\n",
    "\n",
    "predict = tf.argmax(p, axis=1, name='predict')\n",
    "accuracy = tf.reduce_mean(tf.cast(tf.equal(predict, label),tf.float32))\n",
    "print(\"Accuracy:{}\".format(accuracy))\n",
    "\n",
    "plt.title('Predict', size=20)\n",
    "colormap = np.array(['r', 'g', 'b'])\n",
    "plt.scatter(X[:,0], X[:,1], s=100, c=colormap[predict.numpy()], alpha=0.3)\n"
   ]
  }
 ],
 "metadata": {
  "kernelspec": {
   "display_name": "Python 3",
   "language": "python",
   "name": "python3"
  },
  "language_info": {
   "codemirror_mode": {
    "name": "ipython",
    "version": 3
   },
   "file_extension": ".py",
   "mimetype": "text/x-python",
   "name": "python",
   "nbconvert_exporter": "python",
   "pygments_lexer": "ipython3",
   "version": "3.8.1"
  }
 },
 "nbformat": 4,
 "nbformat_minor": 2
}
