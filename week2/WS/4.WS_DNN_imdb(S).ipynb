{
 "cells": [
  {
   "cell_type": "markdown",
   "metadata": {
    "colab_type": "text",
    "id": "8Iyt2km-n2HY"
   },
   "source": [
    "# Binary classification - IMDB"
   ]
  },
  {
   "cell_type": "code",
   "execution_count": 1,
   "metadata": {
    "colab": {
     "base_uri": "https://localhost:8080/",
     "height": 52
    },
    "colab_type": "code",
    "id": "CYLV1O-Zn2HZ",
    "outputId": "cd5a948c-a3a5-40ce-add8-f392a013977f"
   },
   "outputs": [
    {
     "name": "stderr",
     "output_type": "stream",
     "text": [
      "Using TensorFlow backend.\n"
     ]
    },
    {
     "data": {
      "text/plain": [
       "'2.2.4'"
      ]
     },
     "execution_count": 1,
     "metadata": {},
     "output_type": "execute_result"
    }
   ],
   "source": [
    "import tensorflow as tf \n",
    "import keras\n",
    "keras.__version__"
   ]
  },
  {
   "cell_type": "code",
   "execution_count": 2,
   "metadata": {
    "colab": {},
    "colab_type": "code",
    "id": "3q-Po3lCn2Hd"
   },
   "outputs": [],
   "source": [
    "## imdb 데이터셋을 로딩하세요. \n",
    "from tensorflow.keras.datasets import imdb\n",
    "\n",
    "(train_data, train_labels), (test_data, test_labels) = imdb.load_data(num_words = 10000)"
   ]
  },
  {
   "cell_type": "code",
   "execution_count": 3,
   "metadata": {
    "colab": {
     "base_uri": "https://localhost:8080/",
     "height": 3854
    },
    "colab_type": "code",
    "id": "fRZy_r3un2Hf",
    "outputId": "2b5eefe1-7735-4a0c-8056-913bbdac4e5d"
   },
   "outputs": [
    {
     "data": {
      "text/plain": [
       "[1,\n",
       " 14,\n",
       " 22,\n",
       " 16,\n",
       " 43,\n",
       " 530,\n",
       " 973,\n",
       " 1622,\n",
       " 1385,\n",
       " 65,\n",
       " 458,\n",
       " 4468,\n",
       " 66,\n",
       " 3941,\n",
       " 4,\n",
       " 173,\n",
       " 36,\n",
       " 256,\n",
       " 5,\n",
       " 25,\n",
       " 100,\n",
       " 43,\n",
       " 838,\n",
       " 112,\n",
       " 50,\n",
       " 670,\n",
       " 2,\n",
       " 9,\n",
       " 35,\n",
       " 480,\n",
       " 284,\n",
       " 5,\n",
       " 150,\n",
       " 4,\n",
       " 172,\n",
       " 112,\n",
       " 167,\n",
       " 2,\n",
       " 336,\n",
       " 385,\n",
       " 39,\n",
       " 4,\n",
       " 172,\n",
       " 4536,\n",
       " 1111,\n",
       " 17,\n",
       " 546,\n",
       " 38,\n",
       " 13,\n",
       " 447,\n",
       " 4,\n",
       " 192,\n",
       " 50,\n",
       " 16,\n",
       " 6,\n",
       " 147,\n",
       " 2025,\n",
       " 19,\n",
       " 14,\n",
       " 22,\n",
       " 4,\n",
       " 1920,\n",
       " 4613,\n",
       " 469,\n",
       " 4,\n",
       " 22,\n",
       " 71,\n",
       " 87,\n",
       " 12,\n",
       " 16,\n",
       " 43,\n",
       " 530,\n",
       " 38,\n",
       " 76,\n",
       " 15,\n",
       " 13,\n",
       " 1247,\n",
       " 4,\n",
       " 22,\n",
       " 17,\n",
       " 515,\n",
       " 17,\n",
       " 12,\n",
       " 16,\n",
       " 626,\n",
       " 18,\n",
       " 2,\n",
       " 5,\n",
       " 62,\n",
       " 386,\n",
       " 12,\n",
       " 8,\n",
       " 316,\n",
       " 8,\n",
       " 106,\n",
       " 5,\n",
       " 4,\n",
       " 2223,\n",
       " 5244,\n",
       " 16,\n",
       " 480,\n",
       " 66,\n",
       " 3785,\n",
       " 33,\n",
       " 4,\n",
       " 130,\n",
       " 12,\n",
       " 16,\n",
       " 38,\n",
       " 619,\n",
       " 5,\n",
       " 25,\n",
       " 124,\n",
       " 51,\n",
       " 36,\n",
       " 135,\n",
       " 48,\n",
       " 25,\n",
       " 1415,\n",
       " 33,\n",
       " 6,\n",
       " 22,\n",
       " 12,\n",
       " 215,\n",
       " 28,\n",
       " 77,\n",
       " 52,\n",
       " 5,\n",
       " 14,\n",
       " 407,\n",
       " 16,\n",
       " 82,\n",
       " 2,\n",
       " 8,\n",
       " 4,\n",
       " 107,\n",
       " 117,\n",
       " 5952,\n",
       " 15,\n",
       " 256,\n",
       " 4,\n",
       " 2,\n",
       " 7,\n",
       " 3766,\n",
       " 5,\n",
       " 723,\n",
       " 36,\n",
       " 71,\n",
       " 43,\n",
       " 530,\n",
       " 476,\n",
       " 26,\n",
       " 400,\n",
       " 317,\n",
       " 46,\n",
       " 7,\n",
       " 4,\n",
       " 2,\n",
       " 1029,\n",
       " 13,\n",
       " 104,\n",
       " 88,\n",
       " 4,\n",
       " 381,\n",
       " 15,\n",
       " 297,\n",
       " 98,\n",
       " 32,\n",
       " 2071,\n",
       " 56,\n",
       " 26,\n",
       " 141,\n",
       " 6,\n",
       " 194,\n",
       " 7486,\n",
       " 18,\n",
       " 4,\n",
       " 226,\n",
       " 22,\n",
       " 21,\n",
       " 134,\n",
       " 476,\n",
       " 26,\n",
       " 480,\n",
       " 5,\n",
       " 144,\n",
       " 30,\n",
       " 5535,\n",
       " 18,\n",
       " 51,\n",
       " 36,\n",
       " 28,\n",
       " 224,\n",
       " 92,\n",
       " 25,\n",
       " 104,\n",
       " 4,\n",
       " 226,\n",
       " 65,\n",
       " 16,\n",
       " 38,\n",
       " 1334,\n",
       " 88,\n",
       " 12,\n",
       " 16,\n",
       " 283,\n",
       " 5,\n",
       " 16,\n",
       " 4472,\n",
       " 113,\n",
       " 103,\n",
       " 32,\n",
       " 15,\n",
       " 16,\n",
       " 5345,\n",
       " 19,\n",
       " 178,\n",
       " 32]"
      ]
     },
     "execution_count": 3,
     "metadata": {},
     "output_type": "execute_result"
    }
   ],
   "source": [
    "# train_data의 0번쨰 데이터를 로딩하세요.\n",
    "train_data[0]"
   ]
  },
  {
   "cell_type": "code",
   "execution_count": 4,
   "metadata": {
    "colab": {
     "base_uri": "https://localhost:8080/",
     "height": 34
    },
    "colab_type": "code",
    "id": "afpWR7Pfn2Hi",
    "outputId": "08b739ff-d181-4c67-8685-bbba4dab69cd"
   },
   "outputs": [
    {
     "data": {
      "text/plain": [
       "1"
      ]
     },
     "execution_count": 4,
     "metadata": {},
     "output_type": "execute_result"
    }
   ],
   "source": [
    "#tarin_labels의 0번째 데이터를 출력하세요. \n",
    "train_labels[0]"
   ]
  },
  {
   "cell_type": "code",
   "execution_count": 5,
   "metadata": {
    "colab": {
     "base_uri": "https://localhost:8080/",
     "height": 34
    },
    "colab_type": "code",
    "id": "QqCatq48n2Hk",
    "outputId": "a4ee9e7e-5ffa-4fd3-d47b-e90aca49dfa1"
   },
   "outputs": [
    {
     "data": {
      "text/plain": [
       "9999"
      ]
     },
     "execution_count": 5,
     "metadata": {},
     "output_type": "execute_result"
    }
   ],
   "source": [
    "# train 데이터에서 문장중 단어의 인덱스의 최대값을 출력해보세요. \n",
    "max([max(sequence) for sequence in train_data])"
   ]
  },
  {
   "cell_type": "code",
   "execution_count": 6,
   "metadata": {
    "colab": {
     "base_uri": "https://localhost:8080/",
     "height": 54
    },
    "colab_type": "code",
    "id": "EtJK426Nn2Hm",
    "outputId": "5dfae525-94bf-4d36-dadb-ad5773890b29"
   },
   "outputs": [
    {
     "data": {
      "text/plain": [
       "\"? this film was just brilliant casting location scenery story direction everyone's really suited the part they played and you could just imagine being there robert ? is an amazing actor and now the same being director ? father came from the same scottish island as myself so i loved the fact there was a real connection with this film the witty remarks throughout the film were great it was just brilliant so much that i bought the film as soon as it was released for ? and would recommend it to everyone to watch and the fly fishing was amazing really cried at the end it was so sad and you know what they say if you cry at a film it must have been good and this definitely was also ? to the two little boy's that played the ? of norman and paul they were just brilliant children are often left out of the ? list i think because the stars that play them all grown up are such a big profile for the whole film but these children are amazing and should be praised for what they have done don't you think the whole story was so lovely because it was true and was someone's life after all that was shared with us all\""
      ]
     },
     "execution_count": 6,
     "metadata": {},
     "output_type": "execute_result"
    }
   ],
   "source": [
    "# imdb에서 제공하는 word index 를 로딩하고, \n",
    "# 숫자로 되어 있는 문장을 디코딩하여 다시 문자로 환원하여 출력해봅시다. \n",
    "# train_data[0] 데이터를 문장으로 변환하세요. \n",
    "\n",
    "word_index = imdb.get_word_index()\n",
    "reverse_word_index = dict([(value, key) for (key, value) in word_index.items()])\n",
    "decoded_review = ' '.join([reverse_word_index.get(i -3, '?') for i in train_data[0]])\n",
    "decoded_review"
   ]
  },
  {
   "cell_type": "code",
   "execution_count": null,
   "metadata": {
    "colab": {},
    "colab_type": "code",
    "id": "24fcpo4Bn2Hp"
   },
   "outputs": [],
   "source": []
  },
  {
   "cell_type": "markdown",
   "metadata": {
    "colab_type": "text",
    "id": "jwMvmYvun2Hq"
   },
   "source": [
    "# Data preparation"
   ]
  },
  {
   "cell_type": "code",
   "execution_count": 7,
   "metadata": {
    "colab": {
     "base_uri": "https://localhost:8080/",
     "height": 140
    },
    "colab_type": "code",
    "id": "mSFAzJcmn2Hr",
    "outputId": "1dc505e8-58cf-484e-9d49-568bad3413f6"
   },
   "outputs": [
    {
     "data": {
      "text/plain": [
       "array([[0., 1., 1., ..., 0., 0., 0.],\n",
       "       [0., 1., 1., ..., 0., 0., 0.],\n",
       "       [0., 1., 1., ..., 0., 0., 0.],\n",
       "       ...,\n",
       "       [0., 1., 1., ..., 0., 0., 0.],\n",
       "       [0., 1., 1., ..., 0., 0., 0.],\n",
       "       [0., 1., 1., ..., 0., 0., 0.]])"
      ]
     },
     "execution_count": 7,
     "metadata": {},
     "output_type": "execute_result"
    }
   ],
   "source": [
    "#학습 데이터는 열의 갯수가 10000개(단어를 나타내는 인덱스) 이므로, \n",
    "#각 리뷰에 대해 한 행으로 표현하고, 각 열에 리뷰에서 사용하는 단어가 나왔는지 아닌지 여부를 \n",
    "# 0/1로 표현한 행렬을 만들어 보세요. \n",
    "\n",
    "import numpy as np\n",
    "\n",
    "def vectorize_sequences(sequences, dimension=10000):\n",
    "    results = np.zeros((len(sequences), dimension))\n",
    "    for i, sequence in enumerate(sequences):\n",
    "        results[i, sequence] = 1.\n",
    "    return results\n",
    "\n",
    "x_train = vectorize_sequences(train_data)\n",
    "x_test = vectorize_sequences(test_data)\n",
    "x_train"
   ]
  },
  {
   "cell_type": "code",
   "execution_count": 8,
   "metadata": {
    "colab": {
     "base_uri": "https://localhost:8080/",
     "height": 34
    },
    "colab_type": "code",
    "id": "xRHJBiDHn2Ht",
    "outputId": "668e7c91-db1c-47dd-97fc-a783d87d896f"
   },
   "outputs": [
    {
     "data": {
      "text/plain": [
       "array([0., 1., 1., ..., 0., 0., 0.])"
      ]
     },
     "execution_count": 8,
     "metadata": {},
     "output_type": "execute_result"
    }
   ],
   "source": [
    "x_train[0]"
   ]
  },
  {
   "cell_type": "code",
   "execution_count": 9,
   "metadata": {
    "colab": {},
    "colab_type": "code",
    "id": "4EPrAv6-n2Hw"
   },
   "outputs": [],
   "source": [
    "# train_labels 및 test_labels 정보를 float32 타입으로 데이터의 형을 변환하여 \n",
    "# y_train, y_test 에 담으세요. \n",
    "\n",
    "y_train = np.asarray(train_labels).astype('float32')\n",
    "y_test = np.asarray(test_labels).astype('float32')"
   ]
  },
  {
   "cell_type": "markdown",
   "metadata": {
    "colab_type": "text",
    "id": "pPcNGuNPn2Hx"
   },
   "source": [
    "# Neural net Modeling"
   ]
  },
  {
   "cell_type": "markdown",
   "metadata": {
    "colab_type": "text",
    "id": "jiDo6ojdn2Hy"
   },
   "source": [
    "![3-layer network](https://s3.amazonaws.com/book.keras.io/img/ch3/3_layer_network.png)"
   ]
  },
  {
   "cell_type": "code",
   "execution_count": 10,
   "metadata": {
    "colab": {},
    "colab_type": "code",
    "id": "CKNnmkVin2Hy"
   },
   "outputs": [],
   "source": [
    "#모델링 해보세요. \n",
    "\n",
    "from tensorflow.keras import models\n",
    "from tensorflow.keras import layers\n",
    "\n",
    "model = models.Sequential()\n",
    "model.add(layers.Dense(16, activation='relu', input_shape=(10000,)))\n",
    "model.add(layers.Dense(16, activation='relu'))\n",
    "model.add(layers.Dense(1, activation='sigmoid'))"
   ]
  },
  {
   "cell_type": "code",
   "execution_count": 11,
   "metadata": {
    "colab": {},
    "colab_type": "code",
    "id": "_vadHrQ9n2H1"
   },
   "outputs": [],
   "source": [
    "model.compile(optimizer = 'rmsprop',\n",
    "             loss='binary_crossentropy',\n",
    "             metrics=['accuracy'])"
   ]
  },
  {
   "cell_type": "code",
   "execution_count": 12,
   "metadata": {
    "colab": {
     "base_uri": "https://localhost:8080/",
     "height": 246
    },
    "colab_type": "code",
    "id": "1I0cddjOn_H7",
    "outputId": "c222407a-3060-44c4-b4b9-716e75786b24"
   },
   "outputs": [
    {
     "name": "stdout",
     "output_type": "stream",
     "text": [
      "_________________________________________________________________\n",
      "Layer (type)                 Output Shape              Param #   \n",
      "=================================================================\n",
      "dense (Dense)                (None, 16)                160016    \n",
      "_________________________________________________________________\n",
      "dense_1 (Dense)              (None, 16)                272       \n",
      "_________________________________________________________________\n",
      "dense_2 (Dense)              (None, 1)                 17        \n",
      "=================================================================\n",
      "Total params: 160,305\n",
      "Trainable params: 160,305\n",
      "Non-trainable params: 0\n",
      "_________________________________________________________________\n"
     ]
    }
   ],
   "source": [
    "#모델 아키텍쳐를 출력해보세요.\n",
    "model.summary()"
   ]
  },
  {
   "cell_type": "code",
   "execution_count": 14,
   "metadata": {
    "colab": {},
    "colab_type": "code",
    "id": "qzsXoDK4n2H3"
   },
   "outputs": [],
   "source": [
    "# compile하는 여러가지 방법 \n",
    "from tensorflow.keras import optimizers\n",
    "model.compile(optimizer=optimizers.RMSprop(lr=0.001),\n",
    "             loss='binary_crossentropy',\n",
    "             metrics=['accuracy'])"
   ]
  },
  {
   "cell_type": "code",
   "execution_count": 15,
   "metadata": {
    "colab": {},
    "colab_type": "code",
    "id": "rtPWDFL2n2H5"
   },
   "outputs": [],
   "source": [
    "# compile하는 여러가지 방법 \n",
    "\n",
    "from tensorflow.keras import losses\n",
    "from tensorflow.keras import metrics \n",
    "\n",
    "model.compile(optimizer=optimizers.RMSprop(lr=0.001),\n",
    "             loss=losses.binary_crossentropy,\n",
    "             metrics=[metrics.binary_accuracy])"
   ]
  },
  {
   "cell_type": "code",
   "execution_count": 16,
   "metadata": {
    "colab": {},
    "colab_type": "code",
    "id": "tYGeXPLen2H8"
   },
   "outputs": [],
   "source": [
    "# compile하는 여러가지 방법 \n",
    "model.compile(optimizer='rmsprop',\n",
    "             loss='binary_crossentropy',\n",
    "             metrics=['accuracy'])"
   ]
  },
  {
   "cell_type": "markdown",
   "metadata": {
    "colab_type": "text",
    "id": "XsgVBf8Yn2H-"
   },
   "source": [
    "## Validataion"
   ]
  },
  {
   "cell_type": "code",
   "execution_count": 17,
   "metadata": {
    "colab": {},
    "colab_type": "code",
    "id": "4P6tQEusn2H-"
   },
   "outputs": [],
   "source": [
    "#validation 데이터셋은 앞에서부터 10000건, 그 이후 데이터는 train 데이터로 사용하세요.\n",
    "\n",
    "x_val = x_train[:10000]\n",
    "partial_x_train = x_train[10000:]\n",
    "\n",
    "y_val = y_train[:10000]\n",
    "partial_y_train = y_train[10000:]"
   ]
  },
  {
   "cell_type": "code",
   "execution_count": 18,
   "metadata": {
    "colab": {
     "base_uri": "https://localhost:8080/",
     "height": 758
    },
    "colab_type": "code",
    "id": "sySocMuBn2IA",
    "outputId": "792c7ef8-8416-4d6a-a1a9-6a1cfe45fd80"
   },
   "outputs": [
    {
     "name": "stdout",
     "output_type": "stream",
     "text": [
      "Train on 15000 samples, validate on 10000 samples\n",
      "Epoch 1/20\n",
      "15000/15000 [==============================] - 9s 590us/step - loss: 0.5475 - acc: 0.7567 - val_loss: 0.4354 - val_acc: 0.8395\n",
      "Epoch 2/20\n",
      "15000/15000 [==============================] - 4s 279us/step - loss: 0.3361 - acc: 0.8959 - val_loss: 0.3242 - val_acc: 0.8845\n",
      "Epoch 3/20\n",
      "15000/15000 [==============================] - 4s 263us/step - loss: 0.2370 - acc: 0.9257 - val_loss: 0.2931 - val_acc: 0.8852\n",
      "Epoch 4/20\n",
      "15000/15000 [==============================] - 4s 278us/step - loss: 0.1846 - acc: 0.9426 - val_loss: 0.2792 - val_acc: 0.8896\n",
      "Epoch 5/20\n",
      "15000/15000 [==============================] - 4s 257us/step - loss: 0.1461 - acc: 0.9563 - val_loss: 0.2779 - val_acc: 0.8877\n",
      "Epoch 6/20\n",
      "15000/15000 [==============================] - 4s 270us/step - loss: 0.1212 - acc: 0.9634 - val_loss: 0.2926 - val_acc: 0.8845\n",
      "Epoch 7/20\n",
      "15000/15000 [==============================] - 4s 265us/step - loss: 0.0967 - acc: 0.9743 - val_loss: 0.3139 - val_acc: 0.8798\n",
      "Epoch 8/20\n",
      "15000/15000 [==============================] - 4s 275us/step - loss: 0.0784 - acc: 0.9800 - val_loss: 0.3236 - val_acc: 0.8818\n",
      "Epoch 9/20\n",
      "15000/15000 [==============================] - 4s 281us/step - loss: 0.0633 - acc: 0.9847 - val_loss: 0.3645 - val_acc: 0.8756\n",
      "Epoch 10/20\n",
      "15000/15000 [==============================] - 4s 288us/step - loss: 0.0494 - acc: 0.9893 - val_loss: 0.3930 - val_acc: 0.8716\n",
      "Epoch 11/20\n",
      "15000/15000 [==============================] - 4s 272us/step - loss: 0.0380 - acc: 0.9926 - val_loss: 0.3972 - val_acc: 0.8780\n",
      "Epoch 12/20\n",
      "15000/15000 [==============================] - 5s 301us/step - loss: 0.0309 - acc: 0.9943 - val_loss: 0.4274 - val_acc: 0.8759\n",
      "Epoch 13/20\n",
      "15000/15000 [==============================] - 4s 294us/step - loss: 0.0239 - acc: 0.9958 - val_loss: 0.4513 - val_acc: 0.8764\n",
      "Epoch 14/20\n",
      "15000/15000 [==============================] - 4s 273us/step - loss: 0.0181 - acc: 0.9969 - val_loss: 0.4845 - val_acc: 0.8731\n",
      "Epoch 15/20\n",
      "15000/15000 [==============================] - 4s 291us/step - loss: 0.0144 - acc: 0.9983 - val_loss: 0.4983 - val_acc: 0.8752\n",
      "Epoch 16/20\n",
      "15000/15000 [==============================] - 5s 313us/step - loss: 0.0097 - acc: 0.9991 - val_loss: 0.5361 - val_acc: 0.8704\n",
      "Epoch 17/20\n",
      "15000/15000 [==============================] - 4s 262us/step - loss: 0.0061 - acc: 0.9997 - val_loss: 0.5634 - val_acc: 0.8709\n",
      "Epoch 18/20\n",
      "15000/15000 [==============================] - 4s 271us/step - loss: 0.0082 - acc: 0.9991 - val_loss: 0.5902 - val_acc: 0.8723\n",
      "Epoch 19/20\n",
      "15000/15000 [==============================] - 4s 286us/step - loss: 0.0032 - acc: 0.9999 - val_loss: 0.6232 - val_acc: 0.8693\n",
      "Epoch 20/20\n",
      "15000/15000 [==============================] - 4s 283us/step - loss: 0.0051 - acc: 0.9993 - val_loss: 0.6508 - val_acc: 0.8703\n"
     ]
    }
   ],
   "source": [
    "# 학습을 진행하세요. 학습 결과를 history란는 변수에 담으세요. \n",
    "history = model.fit(partial_x_train, partial_y_train,\n",
    "                   epochs=20, batch_size=512,\n",
    "                   validation_data=(x_val, y_val))"
   ]
  },
  {
   "cell_type": "code",
   "execution_count": 19,
   "metadata": {
    "colab": {
     "base_uri": "https://localhost:8080/",
     "height": 34
    },
    "colab_type": "code",
    "id": "feyZQc5En2IE",
    "outputId": "4c9b1066-25c4-4688-e24b-2ada381e0e76"
   },
   "outputs": [
    {
     "data": {
      "text/plain": [
       "dict_keys(['val_loss', 'val_acc', 'loss', 'acc'])"
      ]
     },
     "execution_count": 19,
     "metadata": {},
     "output_type": "execute_result"
    }
   ],
   "source": [
    "history_dict = history.history\n",
    "history_dict.keys()"
   ]
  },
  {
   "cell_type": "code",
   "execution_count": 22,
   "metadata": {
    "colab": {
     "base_uri": "https://localhost:8080/",
     "height": 34
    },
    "colab_type": "code",
    "id": "jUHNk3QPo60r",
    "outputId": "5563e34f-be36-4ab7-8a51-f55e8ffa1bf3"
   },
   "outputs": [
    {
     "data": {
      "text/plain": [
       "['loss', 'acc']"
      ]
     },
     "execution_count": 22,
     "metadata": {},
     "output_type": "execute_result"
    }
   ],
   "source": [
    "model.metrics_names"
   ]
  },
  {
   "cell_type": "markdown",
   "metadata": {
    "colab_type": "text",
    "id": "qxBzN7kdn2IG"
   },
   "source": [
    "# 시각화"
   ]
  },
  {
   "cell_type": "code",
   "execution_count": 25,
   "metadata": {
    "colab": {
     "base_uri": "https://localhost:8080/",
     "height": 376
    },
    "colab_type": "code",
    "id": "Tu2xztXpn2IH",
    "outputId": "bd4705ca-7f1a-48b2-847c-5f78e0102a14"
   },
   "outputs": [
    {
     "data": {
      "image/png": "[encoded data removed]",
      "text/plain": [
       "<Figure size 432x288 with 1 Axes>"
      ]
     },
     "metadata": {},
     "output_type": "display_data"
    }
   ],
   "source": [
    "# accuracy의 변화와, loss의 변화를 시각화 하세요. \n",
    "\n",
    "import matplotlib.pyplot as plt\n",
    "\n",
    "acc = history.history['acc']\n",
    "val_acc = history.history['val_acc']\n",
    "loss = history.history['loss']\n",
    "val_loss = history.history['val_loss']\n",
    "\n",
    "epochs = range(1, len(acc) + 1)\n",
    "\n",
    "plt.plot(epochs, loss, 'bo', label='Training loss')\n",
    "plt.plot(epochs, val_loss, 'b', label='Validation loss')\n",
    "plt.title('Training and validation loss')\n",
    "plt.xlabel('Epochs')\n",
    "plt.ylabel('Loss')\n",
    "plt.legend()\n",
    "\n",
    "plt.show()"
   ]
  },
  {
   "cell_type": "code",
   "execution_count": 24,
   "metadata": {
    "colab": {
     "base_uri": "https://localhost:8080/",
     "height": 376
    },
    "colab_type": "code",
    "id": "nBApNh2ln2IJ",
    "outputId": "556345e4-c702-416d-f876-6f2569c1fbd5"
   },
   "outputs": [
    {
     "data": {
      "image/png": "[encoded data removed]",
      "text/plain": [
       "<Figure size 432x288 with 1 Axes>"
      ]
     },
     "metadata": {},
     "output_type": "display_data"
    }
   ],
   "source": [
    "plt.clf()\n",
    "acc = history_dict['acc']\n",
    "val_acc = history_dict['val_acc']\n",
    "\n",
    "plt.plot(epochs, acc, 'bo', label='Training acc')\n",
    "plt.plot(epochs, val_acc, 'b', label='Validation acc')\n",
    "plt.title('Training and validation accuracy')\n",
    "plt.xlabel('Epochs')\n",
    "plt.ylabel('Accuracy')\n",
    "plt.legend()\n",
    "plt.show()"
   ]
  },
  {
   "cell_type": "markdown",
   "metadata": {
    "colab_type": "text",
    "id": "-ixSz7VVn2IL"
   },
   "source": [
    "# epoch = 4 변경후 Training"
   ]
  },
  {
   "cell_type": "code",
   "execution_count": 26,
   "metadata": {
    "colab": {},
    "colab_type": "code",
    "id": "OspbA3LVn2IM"
   },
   "outputs": [],
   "source": [
    "# epoch 변경후 다시 학습하세요. \n",
    "model = models.Sequential()\n",
    "model.add(layers.Dense(16, activation='relu', input_shape=(10000,)))\n",
    "model.add(layers.Dense(16, activation='relu'))\n",
    "model.add(layers.Dense(1, activation='sigmoid'))"
   ]
  },
  {
   "cell_type": "code",
   "execution_count": 27,
   "metadata": {
    "colab": {
     "base_uri": "https://localhost:8080/",
     "height": 175
    },
    "colab_type": "code",
    "id": "UQ6GpGpBn2IN",
    "outputId": "3abe7c67-ed90-4655-9bf9-e982ab539bdc"
   },
   "outputs": [
    {
     "name": "stdout",
     "output_type": "stream",
     "text": [
      "Epoch 1/4\n",
      "25000/25000 [==============================] - 5s 206us/step - loss: 0.4935 - acc: 0.7980\n",
      "Epoch 2/4\n",
      "25000/25000 [==============================] - 4s 175us/step - loss: 0.2780 - acc: 0.9087\n",
      "Epoch 3/4\n",
      "25000/25000 [==============================] - 4s 171us/step - loss: 0.2064 - acc: 0.9288 4s - loss: 0.2024 - acc: \n",
      "Epoch 4/4\n",
      "25000/25000 [==============================] - 4s 171us/step - loss: 0.1701 - acc: 0.9423\n",
      "25000/25000 [==============================] - 8s 302us/step\n"
     ]
    }
   ],
   "source": [
    "model.compile(optimizer='rmsprop', loss='binary_crossentropy',\n",
    "             metrics=['accuracy'])\n",
    "model.fit(x_train, y_train, epochs=4, batch_size=512)\n",
    "\n",
    "#학습후 test 데이터로 evaluation 하세요. \n",
    "results = model.evaluate(x_test, y_test)"
   ]
  },
  {
   "cell_type": "code",
   "execution_count": 28,
   "metadata": {
    "colab": {
     "base_uri": "https://localhost:8080/",
     "height": 34
    },
    "colab_type": "code",
    "id": "JQ9Gx6v7n2IP",
    "outputId": "299da0a5-055b-4128-ee39-8a456ff05a87"
   },
   "outputs": [
    {
     "data": {
      "text/plain": [
       "[0.32560845182418824, 0.86896]"
      ]
     },
     "execution_count": 28,
     "metadata": {},
     "output_type": "execute_result"
    }
   ],
   "source": [
    "results"
   ]
  },
  {
   "cell_type": "markdown",
   "metadata": {
    "colab_type": "text",
    "id": "k6K869_un2IQ"
   },
   "source": [
    "## Prediction"
   ]
  },
  {
   "cell_type": "code",
   "execution_count": 29,
   "metadata": {
    "colab": {
     "base_uri": "https://localhost:8080/",
     "height": 140
    },
    "colab_type": "code",
    "id": "ZBoJgUXyn2IR",
    "outputId": "717fe034-dfb8-439b-e11a-4c645a0bc694"
   },
   "outputs": [
    {
     "data": {
      "text/plain": [
       "array([[0.23070365],\n",
       "       [0.9968015 ],\n",
       "       [0.942468  ],\n",
       "       ...,\n",
       "       [0.23828219],\n",
       "       [0.16428456],\n",
       "       [0.7672731 ]], dtype=float32)"
      ]
     },
     "execution_count": 29,
     "metadata": {},
     "output_type": "execute_result"
    }
   ],
   "source": [
    "# x_test 데이터로 예측수행하세요. \n",
    "model.predict(x_test)"
   ]
  },
  {
   "cell_type": "code",
   "execution_count": 30,
   "metadata": {
    "colab": {
     "base_uri": "https://localhost:8080/",
     "height": 1812
    },
    "colab_type": "code",
    "id": "1Y5Bx5eAn2IT",
    "outputId": "bf97c067-6e55-4b37-f039-3b07acacaf1f"
   },
   "outputs": [
    {
     "data": {
      "text/plain": [
       "[array([[-0.0090407 ,  0.00474969, -0.0239549 , ..., -0.00627599,\n",
       "         -0.01497211,  0.00205172],\n",
       "        [ 0.05897982,  0.03251505,  0.03628473, ...,  0.01637935,\n",
       "          0.00703133,  0.04249271],\n",
       "        [ 0.06616017,  0.0305146 ,  0.0098179 , ...,  0.02827393,\n",
       "          0.00269044,  0.02562295],\n",
       "        ...,\n",
       "        [-0.01532255,  0.01090367,  0.01264897, ...,  0.01948362,\n",
       "         -0.00797469,  0.00361606],\n",
       "        [ 0.01734157,  0.0303224 ,  0.01597589, ..., -0.00107091,\n",
       "          0.00021816,  0.00731268],\n",
       "        [ 0.01846932,  0.00293813, -0.02939217, ...,  0.01300525,\n",
       "          0.0142794 ,  0.01112555]], dtype=float32),\n",
       " array([ 0.05603553,  0.02058645,  0.02463587,  0.00295819,  0.01682534,\n",
       "         0.02776156,  0.03148749,  0.02981534,  0.04737172,  0.008514  ,\n",
       "        -0.01415379,  0.01088938,  0.03634923,  0.00971058,  0.01481252,\n",
       "         0.03538096], dtype=float32),\n",
       " array([[ 0.25767466, -0.2774778 ,  0.19812454, -0.48618317, -0.12773739,\n",
       "          0.12250965, -0.3187172 ,  0.25424972,  0.39109462,  0.31985092,\n",
       "          0.2660959 , -0.23034428, -0.39385247,  0.14613818,  0.13324483,\n",
       "          0.17532733],\n",
       "        [ 0.39179346, -0.3589605 ,  0.34240076, -0.15824531,  0.50618726,\n",
       "         -0.244041  , -0.39395273,  0.33101296,  0.03692954, -0.0988654 ,\n",
       "          0.11275726,  0.29423842,  0.0443614 , -0.37912473, -0.12568218,\n",
       "          0.10494576],\n",
       "        [ 0.28501853, -0.21987459,  0.38922003, -0.3813191 ,  0.12045658,\n",
       "          0.22571883, -0.1290451 ,  0.38283667, -0.09802546,  0.07427001,\n",
       "          0.03886286, -0.04697584, -0.16362183,  0.42916545,  0.39378798,\n",
       "         -0.34473032],\n",
       "        [-0.13860214, -0.06664588,  0.42113146,  0.01760614, -0.17921233,\n",
       "          0.55234444,  0.07289646, -0.05817334, -0.5079615 ,  0.28921315,\n",
       "          0.3431191 , -0.4244164 , -0.1950716 , -0.4782852 ,  0.06823327,\n",
       "          0.15112105],\n",
       "        [ 0.18117654, -0.31917498, -0.21339278,  0.06183508,  0.12247214,\n",
       "         -0.36729515, -0.21970893, -0.3331533 ,  0.19239275, -0.19564039,\n",
       "         -0.41021806,  0.25720325, -0.019446  ,  0.33070755, -0.3224272 ,\n",
       "         -0.13927314],\n",
       "        [ 0.06431226,  0.05971111, -0.43658376, -0.04288943,  0.4526991 ,\n",
       "          0.2923848 , -0.02425888,  0.09591568, -0.04537446,  0.38531175,\n",
       "          0.3273055 , -0.26137048, -0.27979243, -0.3573221 ,  0.26508564,\n",
       "         -0.27815345],\n",
       "        [ 0.13524859,  0.17293611,  0.07345272,  0.17556317,  0.41270986,\n",
       "          0.4538182 , -0.33724338,  0.10429496, -0.00097805,  0.22584334,\n",
       "          0.41590628,  0.46095628, -0.04051349,  0.04443978, -0.3356558 ,\n",
       "          0.37231812],\n",
       "        [ 0.02664051, -0.14852567,  0.2706981 , -0.20995386, -0.1087123 ,\n",
       "          0.0332859 ,  0.04640402,  0.02124218,  0.3366703 ,  0.21359582,\n",
       "          0.07132895,  0.00871342, -0.11672407,  0.2213769 , -0.37304518,\n",
       "          0.21029639],\n",
       "        [-0.02978704,  0.26635772,  0.2978437 , -0.08342   , -0.27445886,\n",
       "          0.10325012, -0.13055633, -0.24850076,  0.37449905, -0.19067542,\n",
       "         -0.06260343,  0.21704315, -0.2750664 ,  0.54156697,  0.39752293,\n",
       "         -0.13779417],\n",
       "        [ 0.20801905,  0.18901867,  0.36459208, -0.4481164 ,  0.01715098,\n",
       "          0.28687742,  0.09356732, -0.11720651,  0.08024066,  0.14991596,\n",
       "          0.4687084 , -0.4058426 , -0.11869643, -0.30500633,  0.3387247 ,\n",
       "          0.21023987],\n",
       "        [ 0.11336078,  0.38980412, -0.38162148, -0.0317674 , -0.16362007,\n",
       "          0.37886393,  0.20388855, -0.2679217 , -0.2814806 , -0.3708819 ,\n",
       "          0.31049037, -0.41473815, -0.21173306, -0.1585365 , -0.2682391 ,\n",
       "          0.19656971],\n",
       "        [ 0.4226617 , -0.23855242,  0.33812618, -0.07603706,  0.51616055,\n",
       "         -0.14376998, -0.41222098, -0.1933326 , -0.34967154,  0.46121058,\n",
       "         -0.30630353, -0.05906263,  0.08035637, -0.18752262,  0.45528227,\n",
       "          0.1978979 ],\n",
       "        [-0.3106269 , -0.27559802,  0.07425759,  0.36863193,  0.02837886,\n",
       "         -0.24182378,  0.40503514, -0.14302348,  0.4064868 , -0.3055305 ,\n",
       "         -0.2763389 ,  0.3346109 , -0.16378106,  0.2543293 , -0.20666161,\n",
       "          0.2971644 ],\n",
       "        [-0.46862283, -0.07189706, -0.47034788, -0.17272662, -0.4202212 ,\n",
       "         -0.4846975 , -0.05675266,  0.07600017, -0.03750444, -0.43955222,\n",
       "         -0.45350906,  0.3849021 , -0.42444035,  0.10821088, -0.3112505 ,\n",
       "         -0.1314509 ],\n",
       "        [-0.4259916 ,  0.1427082 , -0.42602843,  0.2895258 , -0.31137654,\n",
       "         -0.29185998, -0.3088261 , -0.06327671, -0.2496245 , -0.15011159,\n",
       "         -0.21416485,  0.4396272 ,  0.14575286,  0.5765015 ,  0.15643206,\n",
       "          0.05866475],\n",
       "        [-0.05763919, -0.4238082 , -0.09202144,  0.13146873, -0.14815022,\n",
       "          0.05701361, -0.08967791, -0.18813524,  0.32943594, -0.06465046,\n",
       "          0.01257488, -0.15147221, -0.39850047,  0.4473976 , -0.20011379,\n",
       "         -0.3765979 ]], dtype=float32),\n",
       " array([-3.85252014e-02,  3.86482850e-03, -1.01712979e-01, -4.83832024e-02,\n",
       "         7.35161975e-02, -3.10853287e-03, -9.69838444e-03,  8.08271542e-02,\n",
       "         1.06035337e-01,  3.05563137e-02, -1.09802699e-04,  1.18474044e-01,\n",
       "        -3.78026045e-04,  1.14173099e-01,  4.82192002e-02, -2.63563469e-02],\n",
       "       dtype=float32),\n",
       " array([[-0.47724828],\n",
       "        [ 0.1519683 ],\n",
       "        [-0.15810172],\n",
       "        [-0.07003833],\n",
       "        [-0.70275664],\n",
       "        [-0.3909242 ],\n",
       "        [-0.29183853],\n",
       "        [-0.47944462],\n",
       "        [ 0.540624  ],\n",
       "        [-0.4815617 ],\n",
       "        [-0.51983994],\n",
       "        [ 0.1731593 ],\n",
       "        [-0.10658877],\n",
       "        [ 0.23840648],\n",
       "        [-0.6403179 ],\n",
       "        [-0.05880579]], dtype=float32),\n",
       " array([0.10417564], dtype=float32)]"
      ]
     },
     "execution_count": 30,
     "metadata": {},
     "output_type": "execute_result"
    }
   ],
   "source": [
    "#모델의 가중치를 출력하세요.\n",
    "model.get_weights()"
   ]
  },
  {
   "cell_type": "code",
   "execution_count": null,
   "metadata": {
    "colab": {},
    "colab_type": "code",
    "id": "vECRZ58MpLG7"
   },
   "outputs": [],
   "source": []
  }
 ],
 "metadata": {
  "accelerator": "GPU",
  "colab": {
   "name": "binary-classifying-movie-reviews_sol.ipynb",
   "provenance": []
  },
  "kernelspec": {
   "display_name": "Python 3",
   "language": "python",
   "name": "python3"
  },
  "language_info": {
   "codemirror_mode": {
    "name": "ipython",
    "version": 3
   },
   "file_extension": ".py",
   "mimetype": "text/x-python",
   "name": "python",
   "nbconvert_exporter": "python",
   "pygments_lexer": "ipython3",
   "version": "3.6.5"
  }
 },
 "nbformat": 4,
 "nbformat_minor": 1
}
