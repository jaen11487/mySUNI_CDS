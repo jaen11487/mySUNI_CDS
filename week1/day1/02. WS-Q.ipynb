{
 "cells": [
  {
   "cell_type": "markdown",
   "metadata": {},
   "source": [
    "# [Workshop] Day1\n",
    "\n",
    "### 배경 지식\n",
    "- 데이터 타입, 조건문\n",
    "\n",
    "아래에 명시된 조건을 따라 함수를 작성하세요."
   ]
  },
  {
   "cell_type": "markdown",
   "metadata": {},
   "source": [
    "### Q1\n",
    "\n",
    "- 아래의 값을 저장하고 있는 myList 변수를 생성하세요.\n",
    "    - [[1,2,3],[4,5,6],[7,8]]\n",
    "\n",
    "\n",
    "- 9를 myList에 추가하여 아래의 값을 저장할 수 있도록 하세요.\n",
    "    - [[1,2,3],[4,5,6],[7,8,9]]\n",
    "    - append, insert 함수를 이용합니다."
   ]
  },
  {
   "cell_type": "code",
   "execution_count": null,
   "metadata": {},
   "outputs": [],
   "source": []
  },
  {
   "cell_type": "markdown",
   "metadata": {},
   "source": [
    "### Q2\n",
    "\n",
    "- 학생들의 이름과 점수를 key와 value로 가지는 score 변수를 생성하세요.\n",
    "    - 하준 90점, 서윤 86점, 지아 80점\n",
    "\n",
    "- score 변수에 수지 95점을 추가하세요.\n",
    "\n",
    "- score 변수에서 지아를 삭제하세요.\n",
    "\n",
    "- score 변수에 기창 98점, 남철 60점, 기성 75점을 **한번에** 추가하세요."
   ]
  },
  {
   "cell_type": "code",
   "execution_count": null,
   "metadata": {},
   "outputs": [],
   "source": []
  },
  {
   "cell_type": "markdown",
   "metadata": {},
   "source": [
    "### Q3\n",
    "- 다음 리스트에서 중복된 항목을 제거하세요\n",
    "```python\n",
    "    numList = [1,3,2,3,7,6,8,4,10,5,3,8,9] ```"
   ]
  },
  {
   "cell_type": "code",
   "execution_count": null,
   "metadata": {},
   "outputs": [],
   "source": []
  },
  {
   "cell_type": "markdown",
   "metadata": {},
   "source": [
    "### Q4\n",
    "- 입력 받은 문자가 모음인지 판단하는 프로그램을 만드세요.\n"
   ]
  },
  {
   "cell_type": "code",
   "execution_count": null,
   "metadata": {},
   "outputs": [],
   "source": []
  }
 ],
 "metadata": {
  "kernelspec": {
   "display_name": "Python 3",
   "language": "python",
   "name": "python3"
  },
  "language_info": {
   "codemirror_mode": {
    "name": "ipython",
    "version": 3
   },
   "file_extension": ".py",
   "mimetype": "text/x-python",
   "name": "python",
   "nbconvert_exporter": "python",
   "pygments_lexer": "ipython3",
   "version": "3.7.6"
  }
 },
 "nbformat": 4,
 "nbformat_minor": 4
}
